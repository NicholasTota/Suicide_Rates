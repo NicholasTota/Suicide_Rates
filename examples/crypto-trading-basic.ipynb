{
  "cells": [
    {
      "cell_type": "markdown",
      "metadata": {
        "id": "5EY59cPTzzXu"
      },
      "source": [
        "# Alpaca-py crypto trading basic"
      ]
    },
    {
      "cell_type": "markdown",
      "metadata": {
        "id": "Nsn10KNEzzXv"
      },
      "source": [
        "[![Open In Colab](https://colab.research.google.com/assets/colab-badge.svg)](https://colab.research.google.com/github/alpacahq/alpaca-py/blob/master/examples/crypto-trading-basic.ipynb)"
      ]
    },
    {
      "cell_type": "code",
      "source": [
        "from google.colab import userdata\n"
      ],
      "metadata": {
        "id": "S1dmDL7C1BBn"
      },
      "execution_count": 29,
      "outputs": []
    },
    {
      "cell_type": "code",
      "execution_count": 30,
      "metadata": {
        "id": "uMXpS253zzXw",
        "outputId": "2ba3f7e6-338c-4dbe-8edb-f55d8281b6b8",
        "colab": {
          "base_uri": "https://localhost:8080/",
          "height": 332
        }
      },
      "outputs": [
        {
          "output_type": "error",
          "ename": "SecretNotFoundError",
          "evalue": "Secret AlpacaAPIKey does not exist.",
          "traceback": [
            "\u001b[0;31m---------------------------------------------------------------------------\u001b[0m",
            "\u001b[0;31mSecretNotFoundError\u001b[0m                       Traceback (most recent call last)",
            "\u001b[0;32m<ipython-input-30-bcf5b80e510c>\u001b[0m in \u001b[0;36m<cell line: 4>\u001b[0;34m()\u001b[0m\n\u001b[1;32m      2\u001b[0m \u001b[0;31m# You can get them from https://alpaca.markets/\u001b[0m\u001b[0;34m\u001b[0m\u001b[0;34m\u001b[0m\u001b[0m\n\u001b[1;32m      3\u001b[0m \u001b[0;34m\u001b[0m\u001b[0m\n\u001b[0;32m----> 4\u001b[0;31m \u001b[0mapi_key\u001b[0m \u001b[0;34m=\u001b[0m \u001b[0muserdata\u001b[0m\u001b[0;34m.\u001b[0m\u001b[0mget\u001b[0m\u001b[0;34m(\u001b[0m\u001b[0;34m'AlpacaAPIKey'\u001b[0m\u001b[0;34m)\u001b[0m\u001b[0;34m\u001b[0m\u001b[0;34m\u001b[0m\u001b[0m\n\u001b[0m\u001b[1;32m      5\u001b[0m \u001b[0msecret_key\u001b[0m \u001b[0;34m=\u001b[0m \u001b[0muserdata\u001b[0m\u001b[0;34m.\u001b[0m\u001b[0mget\u001b[0m\u001b[0;34m(\u001b[0m\u001b[0;34m'AlpacaSecretKey'\u001b[0m\u001b[0;34m)\u001b[0m\u001b[0;34m\u001b[0m\u001b[0;34m\u001b[0m\u001b[0m\n\u001b[1;32m      6\u001b[0m \u001b[0;34m\u001b[0m\u001b[0m\n",
            "\u001b[0;32m/usr/local/lib/python3.10/dist-packages/google/colab/userdata.py\u001b[0m in \u001b[0;36mget\u001b[0;34m(key)\u001b[0m\n\u001b[1;32m     66\u001b[0m     \u001b[0;32mraise\u001b[0m \u001b[0mTimeoutException\u001b[0m\u001b[0;34m(\u001b[0m\u001b[0mkey\u001b[0m\u001b[0;34m)\u001b[0m\u001b[0;34m\u001b[0m\u001b[0;34m\u001b[0m\u001b[0m\n\u001b[1;32m     67\u001b[0m   \u001b[0;32mif\u001b[0m \u001b[0;32mnot\u001b[0m \u001b[0mresp\u001b[0m\u001b[0;34m.\u001b[0m\u001b[0mget\u001b[0m\u001b[0;34m(\u001b[0m\u001b[0;34m'exists'\u001b[0m\u001b[0;34m,\u001b[0m \u001b[0;32mFalse\u001b[0m\u001b[0;34m)\u001b[0m\u001b[0;34m:\u001b[0m\u001b[0;34m\u001b[0m\u001b[0;34m\u001b[0m\u001b[0m\n\u001b[0;32m---> 68\u001b[0;31m     \u001b[0;32mraise\u001b[0m \u001b[0mSecretNotFoundError\u001b[0m\u001b[0;34m(\u001b[0m\u001b[0mkey\u001b[0m\u001b[0;34m)\u001b[0m\u001b[0;34m\u001b[0m\u001b[0;34m\u001b[0m\u001b[0m\n\u001b[0m\u001b[1;32m     69\u001b[0m   \u001b[0;32mif\u001b[0m \u001b[0;32mnot\u001b[0m \u001b[0mresp\u001b[0m\u001b[0;34m.\u001b[0m\u001b[0mget\u001b[0m\u001b[0;34m(\u001b[0m\u001b[0;34m'access'\u001b[0m\u001b[0;34m,\u001b[0m \u001b[0;32mFalse\u001b[0m\u001b[0;34m)\u001b[0m\u001b[0;34m:\u001b[0m\u001b[0;34m\u001b[0m\u001b[0;34m\u001b[0m\u001b[0m\n\u001b[1;32m     70\u001b[0m     \u001b[0;32mraise\u001b[0m \u001b[0mNotebookAccessError\u001b[0m\u001b[0;34m(\u001b[0m\u001b[0mkey\u001b[0m\u001b[0;34m)\u001b[0m\u001b[0;34m\u001b[0m\u001b[0;34m\u001b[0m\u001b[0m\n",
            "\u001b[0;31mSecretNotFoundError\u001b[0m: Secret AlpacaAPIKey does not exist."
          ]
        }
      ],
      "source": [
        "# Please change the following to your own PAPER api key and secret\n",
        "# You can get them from https://alpaca.markets/\n",
        "\n",
        "api_key = userdata.get('AlpacaAPIKey')\n",
        "secret_key = userdata.get('AlpacaSecretKey')\n",
        "\n",
        "#### We use paper environment for this example ####\n",
        "paper = True # Please do not modify this. This example is for paper trading only.\n",
        "####\n",
        "\n",
        "# Below are the variables for development this documents\n",
        "# Please do not change these variables\n",
        "trade_api_url = None\n",
        "trade_api_wss = None\n",
        "data_api_url = None\n",
        "stream_data_wss = None"
      ]
    },
    {
      "cell_type": "markdown",
      "metadata": {
        "id": "OHDpb1HhzzXw"
      },
      "source": [
        "- This notebook shows how to use alpaca-py with crypto trading API endpoints\n",
        "- Please use ``paper account``. Please ``DO NOT`` use this notebook with live account. In this notebook, we place orders for crypto as an example."
      ]
    },
    {
      "cell_type": "code",
      "execution_count": 31,
      "metadata": {
        "id": "xJLSi-mqzzXx",
        "outputId": "18c36954-162e-48fd-9b9c-25130c6ce179",
        "colab": {
          "base_uri": "https://localhost:8080/"
        }
      },
      "outputs": [
        {
          "output_type": "stream",
          "name": "stdout",
          "text": [
            "Requirement already satisfied: alpaca-py in /usr/local/lib/python3.10/dist-packages (0.35.0)\n",
            "Requirement already satisfied: msgpack<2.0.0,>=1.0.3 in /usr/local/lib/python3.10/dist-packages (from alpaca-py) (1.1.0)\n",
            "Requirement already satisfied: pandas>=1.5.3 in /usr/local/lib/python3.10/dist-packages (from alpaca-py) (2.2.2)\n",
            "Requirement already satisfied: pydantic<3.0.0,>=2.0.3 in /usr/local/lib/python3.10/dist-packages (from alpaca-py) (2.10.3)\n",
            "Requirement already satisfied: requests<3.0.0,>=2.30.0 in /usr/local/lib/python3.10/dist-packages (from alpaca-py) (2.32.3)\n",
            "Requirement already satisfied: sseclient-py<2.0.0,>=1.7.2 in /usr/local/lib/python3.10/dist-packages (from alpaca-py) (1.8.0)\n",
            "Requirement already satisfied: websockets>=10.4 in /usr/local/lib/python3.10/dist-packages (from alpaca-py) (14.1)\n",
            "Requirement already satisfied: numpy>=1.22.4 in /usr/local/lib/python3.10/dist-packages (from pandas>=1.5.3->alpaca-py) (1.26.4)\n",
            "Requirement already satisfied: python-dateutil>=2.8.2 in /usr/local/lib/python3.10/dist-packages (from pandas>=1.5.3->alpaca-py) (2.8.2)\n",
            "Requirement already satisfied: pytz>=2020.1 in /usr/local/lib/python3.10/dist-packages (from pandas>=1.5.3->alpaca-py) (2024.2)\n",
            "Requirement already satisfied: tzdata>=2022.7 in /usr/local/lib/python3.10/dist-packages (from pandas>=1.5.3->alpaca-py) (2024.2)\n",
            "Requirement already satisfied: annotated-types>=0.6.0 in /usr/local/lib/python3.10/dist-packages (from pydantic<3.0.0,>=2.0.3->alpaca-py) (0.7.0)\n",
            "Requirement already satisfied: pydantic-core==2.27.1 in /usr/local/lib/python3.10/dist-packages (from pydantic<3.0.0,>=2.0.3->alpaca-py) (2.27.1)\n",
            "Requirement already satisfied: typing-extensions>=4.12.2 in /usr/local/lib/python3.10/dist-packages (from pydantic<3.0.0,>=2.0.3->alpaca-py) (4.12.2)\n",
            "Requirement already satisfied: charset-normalizer<4,>=2 in /usr/local/lib/python3.10/dist-packages (from requests<3.0.0,>=2.30.0->alpaca-py) (3.4.0)\n",
            "Requirement already satisfied: idna<4,>=2.5 in /usr/local/lib/python3.10/dist-packages (from requests<3.0.0,>=2.30.0->alpaca-py) (3.10)\n",
            "Requirement already satisfied: urllib3<3,>=1.21.1 in /usr/local/lib/python3.10/dist-packages (from requests<3.0.0,>=2.30.0->alpaca-py) (1.26.20)\n",
            "Requirement already satisfied: certifi>=2017.4.17 in /usr/local/lib/python3.10/dist-packages (from requests<3.0.0,>=2.30.0->alpaca-py) (2024.12.14)\n",
            "Requirement already satisfied: six>=1.5 in /usr/local/lib/python3.10/dist-packages (from python-dateutil>=2.8.2->pandas>=1.5.3->alpaca-py) (1.17.0)\n"
          ]
        }
      ],
      "source": [
        "# install alpaca-py\n",
        "! python3 -m pip install alpaca-py"
      ]
    },
    {
      "cell_type": "code",
      "execution_count": 11,
      "metadata": {
        "id": "SUzf1RSmzzXx"
      },
      "outputs": [],
      "source": [
        "import json\n",
        "from datetime import datetime, timedelta\n",
        "from zoneinfo import ZoneInfo\n",
        "\n",
        "import alpaca\n",
        "from alpaca.trading.client import TradingClient\n",
        "from alpaca.data.timeframe import TimeFrame, TimeFrameUnit\n",
        "from alpaca.data.historical.crypto import CryptoHistoricalDataClient\n",
        "from alpaca.trading.stream import TradingStream\n",
        "from alpaca.data.live.crypto import CryptoDataStream\n",
        "\n",
        "from alpaca.data.requests import (\n",
        "    CryptoBarsRequest,\n",
        "    CryptoQuoteRequest,\n",
        "    CryptoTradesRequest,\n",
        "    CryptoLatestQuoteRequest\n",
        "    )\n",
        "from alpaca.trading.requests import (\n",
        "    GetAssetsRequest,\n",
        "    MarketOrderRequest,\n",
        "    LimitOrderRequest,\n",
        "    StopLimitOrderRequest,\n",
        "    GetOrdersRequest,\n",
        "    ClosePositionRequest\n",
        ")\n",
        "from alpaca.trading.enums import (\n",
        "    AssetClass,\n",
        "    AssetStatus,\n",
        "    OrderSide,\n",
        "    OrderType,\n",
        "    TimeInForce,\n",
        "    QueryOrderStatus\n",
        ")\n",
        "from alpaca.common.exceptions import APIError"
      ]
    },
    {
      "cell_type": "code",
      "execution_count": null,
      "metadata": {
        "id": "ygi6urVIzzXx"
      },
      "outputs": [],
      "source": [
        "# to run async code in jupyter notebook\n",
        "import nest_asyncio\n",
        "nest_asyncio.apply()"
      ]
    },
    {
      "cell_type": "code",
      "execution_count": null,
      "metadata": {
        "id": "Gawy1KY1zzXy"
      },
      "outputs": [],
      "source": [
        "# check version of alpaca-py\n",
        "alpaca.__version__"
      ]
    },
    {
      "cell_type": "markdown",
      "metadata": {
        "id": "k76AE3kkzzXy"
      },
      "source": [
        "# Trading Client"
      ]
    },
    {
      "cell_type": "code",
      "execution_count": 32,
      "metadata": {
        "id": "Yr6663sNzzXy"
      },
      "outputs": [],
      "source": [
        "# setup clients\n",
        "trade_client = TradingClient(api_key=api_key, secret_key=secret_key, paper=paper, url_override=trade_api_url)"
      ]
    },
    {
      "cell_type": "code",
      "execution_count": 12,
      "metadata": {
        "id": "fVoBEZ_dzzXz",
        "outputId": "41b132f2-1539-4ea4-c439-0dd119e61ba6",
        "colab": {
          "base_uri": "https://localhost:8080/"
        }
      },
      "outputs": [
        {
          "output_type": "execute_result",
          "data": {
            "text/plain": [
              "{   'account_blocked': False,\n",
              "    'account_number': 'PA32AZSRCSBZ',\n",
              "    'accrued_fees': '0',\n",
              "    'buying_power': '200000',\n",
              "    'cash': '100000',\n",
              "    'created_at': datetime.datetime(2024, 12, 29, 14, 13, 59, 4140, tzinfo=TzInfo(UTC)),\n",
              "    'crypto_status': <AccountStatus.ACTIVE: 'ACTIVE'>,\n",
              "    'currency': 'USD',\n",
              "    'daytrade_count': 0,\n",
              "    'daytrading_buying_power': '0',\n",
              "    'equity': '100000',\n",
              "    'id': UUID('a2c721f7-2731-4876-b895-dc0b22e88d1a'),\n",
              "    'initial_margin': '0',\n",
              "    'last_equity': '100000',\n",
              "    'last_maintenance_margin': '0',\n",
              "    'long_market_value': '0',\n",
              "    'maintenance_margin': '0',\n",
              "    'multiplier': '2',\n",
              "    'non_marginable_buying_power': '100000',\n",
              "    'options_approved_level': 2,\n",
              "    'options_buying_power': '100000',\n",
              "    'options_trading_level': 2,\n",
              "    'pattern_day_trader': False,\n",
              "    'pending_transfer_in': None,\n",
              "    'pending_transfer_out': None,\n",
              "    'portfolio_value': '100000',\n",
              "    'regt_buying_power': '200000',\n",
              "    'short_market_value': '0',\n",
              "    'shorting_enabled': True,\n",
              "    'sma': '0',\n",
              "    'status': <AccountStatus.ACTIVE: 'ACTIVE'>,\n",
              "    'trade_suspended_by_user': False,\n",
              "    'trading_blocked': False,\n",
              "    'transfers_blocked': False}"
            ]
          },
          "metadata": {},
          "execution_count": 12
        }
      ],
      "source": [
        "# check trading account\n",
        "# You can check definition of each field in the following documents\n",
        "# ref. https://docs.alpaca.markets/docs/account-plans\n",
        "# ref. https://docs.alpaca.markets/reference/getaccount-1\n",
        "acct = trade_client.get_account()\n",
        "acct"
      ]
    },
    {
      "cell_type": "code",
      "execution_count": 13,
      "metadata": {
        "id": "vgGm7r8qzzXz",
        "outputId": "920cc786-bb78-4435-8db9-b2ec3ba674c8",
        "colab": {
          "base_uri": "https://localhost:8080/"
        }
      },
      "outputs": [
        {
          "output_type": "execute_result",
          "data": {
            "text/plain": [
              "{   'dtbp_check': <DTBPCheck.ENTRY: 'entry'>,\n",
              "    'fractional_trading': True,\n",
              "    'max_margin_multiplier': '4',\n",
              "    'max_options_trading_level': None,\n",
              "    'no_shorting': False,\n",
              "    'pdt_check': <PDTCheck.ENTRY: 'entry'>,\n",
              "    'ptp_no_exception_entry': False,\n",
              "    'suspend_trade': False,\n",
              "    'trade_confirm_email': <TradeConfirmationEmail.ALL: 'all'>}"
            ]
          },
          "metadata": {},
          "execution_count": 13
        }
      ],
      "source": [
        "# check account configuration\n",
        "# ref. https://docs.alpaca.markets/reference/getaccountconfig-1\n",
        "acct_config = trade_client.get_account_configurations()\n",
        "acct_config"
      ]
    },
    {
      "cell_type": "code",
      "execution_count": 14,
      "metadata": {
        "id": "KF2OLuoRzzXz",
        "outputId": "34c0aac5-ec17-4ced-e5bf-0cd8b4b5bcd2",
        "colab": {
          "base_uri": "https://localhost:8080/"
        }
      },
      "outputs": [
        {
          "output_type": "execute_result",
          "data": {
            "text/plain": [
              "[{   'asset_class': <AssetClass.CRYPTO: 'crypto'>,\n",
              "     'attributes': [],\n",
              "     'easy_to_borrow': False,\n",
              "     'exchange': <AssetExchange.CRYPTO: 'CRYPTO'>,\n",
              "     'fractionable': True,\n",
              "     'id': UUID('38f8a0a4-399c-4f5a-8c0d-7435faef70d1'),\n",
              "     'maintenance_margin_requirement': 100.0,\n",
              "     'marginable': False,\n",
              "     'min_order_size': 1.00086074,\n",
              "     'min_trade_increment': 1e-09,\n",
              "     'name': 'USDC/USD pair',\n",
              "     'price_increment': 0.0001,\n",
              "     'shortable': False,\n",
              "     'status': <AssetStatus.ACTIVE: 'active'>,\n",
              "     'symbol': 'USDC/USD',\n",
              "     'tradable': True},\n",
              " {   'asset_class': <AssetClass.CRYPTO: 'crypto'>,\n",
              "     'attributes': [],\n",
              "     'easy_to_borrow': False,\n",
              "     'exchange': <AssetExchange.CRYPTO: 'CRYPTO'>,\n",
              "     'fractionable': True,\n",
              "     'id': UUID('a1733398-6acc-4e92-af24-0d0667f78713'),\n",
              "     'maintenance_margin_requirement': 100.0,\n",
              "     'marginable': False,\n",
              "     'min_order_size': 0.000296709,\n",
              "     'min_trade_increment': 1e-09,\n",
              "     'name': 'Ethereum / US Dollar',\n",
              "     'price_increment': 0.1,\n",
              "     'shortable': False,\n",
              "     'status': <AssetStatus.ACTIVE: 'active'>,\n",
              "     'symbol': 'ETH/USD',\n",
              "     'tradable': True}]"
            ]
          },
          "metadata": {},
          "execution_count": 14
        }
      ],
      "source": [
        "# get list of crypto pairs\n",
        "# ref. https://docs.alpaca.markets/reference/get-v2-assets-1\n",
        "req = GetAssetsRequest(\n",
        "  asset_class=AssetClass.CRYPTO,\n",
        "  status=AssetStatus.ACTIVE\n",
        ")\n",
        "assets = trade_client.get_all_assets(req)\n",
        "assets[:2]"
      ]
    },
    {
      "cell_type": "markdown",
      "metadata": {
        "id": "yf_NsFLXzzXz"
      },
      "source": [
        "### Orders"
      ]
    },
    {
      "cell_type": "code",
      "execution_count": 15,
      "metadata": {
        "id": "Bt_C1zWmzzXz"
      },
      "outputs": [],
      "source": [
        "# we will place orders which Alapca trading platform supports\n",
        "# - order types for crypto: market, limit, stop_limit\n",
        "# - time_in_force for crypto: gtc, ioc.\n",
        "# please refer to the following documents for more details\n",
        "# ref. https://docs.alpaca.markets/docs/orders-at-alpaca\n",
        "# ref. https://docs.alpaca.markets/reference/postorder\n",
        "\n",
        "\n",
        "# we will place orders for symbol: BTC/USD in this example\n",
        "symbol = \"BTC/USD\""
      ]
    },
    {
      "cell_type": "code",
      "execution_count": 16,
      "metadata": {
        "id": "JeApyY8YzzXz",
        "outputId": "c8c4b50a-48af-4d4a-cf1b-318d190911ff",
        "colab": {
          "base_uri": "https://localhost:8080/"
        }
      },
      "outputs": [
        {
          "output_type": "execute_result",
          "data": {
            "text/plain": [
              "{   'asset_class': <AssetClass.CRYPTO: 'crypto'>,\n",
              "    'asset_id': UUID('276e2673-764b-4ab6-a611-caf665ca6340'),\n",
              "    'canceled_at': None,\n",
              "    'client_order_id': '103cbeac-baff-481b-b658-e37b7009060f',\n",
              "    'created_at': datetime.datetime(2024, 12, 29, 14, 37, 14, 382033, tzinfo=TzInfo(UTC)),\n",
              "    'expired_at': None,\n",
              "    'extended_hours': False,\n",
              "    'failed_at': None,\n",
              "    'filled_at': None,\n",
              "    'filled_avg_price': None,\n",
              "    'filled_qty': '0',\n",
              "    'hwm': None,\n",
              "    'id': UUID('9edc0e27-5b60-45a0-99e7-ba17f8ef8243'),\n",
              "    'legs': None,\n",
              "    'limit_price': None,\n",
              "    'notional': None,\n",
              "    'order_class': <OrderClass.SIMPLE: 'simple'>,\n",
              "    'order_type': <OrderType.MARKET: 'market'>,\n",
              "    'position_intent': <PositionIntent.BUY_TO_OPEN: 'buy_to_open'>,\n",
              "    'qty': '0.01',\n",
              "    'replaced_at': None,\n",
              "    'replaced_by': None,\n",
              "    'replaces': None,\n",
              "    'side': <OrderSide.BUY: 'buy'>,\n",
              "    'status': <OrderStatus.PENDING_NEW: 'pending_new'>,\n",
              "    'stop_price': None,\n",
              "    'submitted_at': datetime.datetime(2024, 12, 29, 14, 37, 14, 382033, tzinfo=TzInfo(UTC)),\n",
              "    'symbol': 'BTC/USD',\n",
              "    'time_in_force': <TimeInForce.GTC: 'gtc'>,\n",
              "    'trail_percent': None,\n",
              "    'trail_price': None,\n",
              "    'type': <OrderType.MARKET: 'market'>,\n",
              "    'updated_at': datetime.datetime(2024, 12, 29, 14, 37, 14, 404176, tzinfo=TzInfo(UTC))}"
            ]
          },
          "metadata": {},
          "execution_count": 16
        }
      ],
      "source": [
        "# simple, market order\n",
        "# you can specify:\n",
        "# or notional value (e.g. 100 USD) (which is in the next example)\n",
        "req = MarketOrderRequest(\n",
        "    symbol = symbol,\n",
        "    qty = 0.01,\n",
        "    side = OrderSide.BUY,\n",
        "    type = OrderType.MARKET,\n",
        "    time_in_force = TimeInForce.GTC,\n",
        ")\n",
        "res = trade_client.submit_order(req)\n",
        "res"
      ]
    },
    {
      "cell_type": "code",
      "execution_count": 17,
      "metadata": {
        "id": "9ALrcpSAzzX0",
        "outputId": "9380ca6c-acf1-4466-c353-f239dcc05698",
        "colab": {
          "base_uri": "https://localhost:8080/"
        }
      },
      "outputs": [
        {
          "output_type": "execute_result",
          "data": {
            "text/plain": [
              "{   'asset_class': <AssetClass.CRYPTO: 'crypto'>,\n",
              "    'asset_id': UUID('276e2673-764b-4ab6-a611-caf665ca6340'),\n",
              "    'canceled_at': None,\n",
              "    'client_order_id': '345d363a-b2a5-4a9a-a129-5c103f44e451',\n",
              "    'created_at': datetime.datetime(2024, 12, 29, 14, 38, 13, 952589, tzinfo=TzInfo(UTC)),\n",
              "    'expired_at': None,\n",
              "    'extended_hours': False,\n",
              "    'failed_at': None,\n",
              "    'filled_at': None,\n",
              "    'filled_avg_price': None,\n",
              "    'filled_qty': '0',\n",
              "    'hwm': None,\n",
              "    'id': UUID('4951a60c-195a-4ed6-a62a-eaa9c36f9e3e'),\n",
              "    'legs': None,\n",
              "    'limit_price': None,\n",
              "    'notional': '1.11',\n",
              "    'order_class': <OrderClass.SIMPLE: 'simple'>,\n",
              "    'order_type': <OrderType.MARKET: 'market'>,\n",
              "    'position_intent': <PositionIntent.BUY_TO_OPEN: 'buy_to_open'>,\n",
              "    'qty': None,\n",
              "    'replaced_at': None,\n",
              "    'replaced_by': None,\n",
              "    'replaces': None,\n",
              "    'side': <OrderSide.BUY: 'buy'>,\n",
              "    'status': <OrderStatus.PENDING_NEW: 'pending_new'>,\n",
              "    'stop_price': None,\n",
              "    'submitted_at': datetime.datetime(2024, 12, 29, 14, 38, 13, 952589, tzinfo=TzInfo(UTC)),\n",
              "    'symbol': 'BTC/USD',\n",
              "    'time_in_force': <TimeInForce.GTC: 'gtc'>,\n",
              "    'trail_percent': None,\n",
              "    'trail_price': None,\n",
              "    'type': <OrderType.MARKET: 'market'>,\n",
              "    'updated_at': datetime.datetime(2024, 12, 29, 14, 38, 13, 953346, tzinfo=TzInfo(UTC))}"
            ]
          },
          "metadata": {},
          "execution_count": 17
        }
      ],
      "source": [
        "# simple, market order, notional\n",
        "\n",
        "req = MarketOrderRequest(\n",
        "    symbol = symbol,\n",
        "    notional = 1.11,  # notional is specified in USD, here we specify $1.11\n",
        "    side = OrderSide.BUY,\n",
        "    type = OrderType.MARKET,\n",
        "    time_in_force = TimeInForce.GTC,\n",
        ")\n",
        "res = trade_client.submit_order(req)\n",
        "res"
      ]
    },
    {
      "cell_type": "code",
      "execution_count": 18,
      "metadata": {
        "id": "s2n1Hth4zzX0",
        "outputId": "581597b2-e0f2-47bb-d00f-89bf1c5106ed",
        "colab": {
          "base_uri": "https://localhost:8080/"
        }
      },
      "outputs": [
        {
          "output_type": "execute_result",
          "data": {
            "text/plain": [
              "{   'asset_class': <AssetClass.CRYPTO: 'crypto'>,\n",
              "    'asset_id': UUID('276e2673-764b-4ab6-a611-caf665ca6340'),\n",
              "    'canceled_at': None,\n",
              "    'client_order_id': 'ab63f7c5-2d31-449e-80be-25d0e3c0d2df',\n",
              "    'created_at': datetime.datetime(2024, 12, 29, 14, 38, 34, 832063, tzinfo=TzInfo(UTC)),\n",
              "    'expired_at': None,\n",
              "    'extended_hours': False,\n",
              "    'failed_at': None,\n",
              "    'filled_at': None,\n",
              "    'filled_avg_price': None,\n",
              "    'filled_qty': '0',\n",
              "    'hwm': None,\n",
              "    'id': UUID('4852b174-6464-4c2e-be6b-00e04efbf9e4'),\n",
              "    'legs': None,\n",
              "    'limit_price': '60000',\n",
              "    'notional': None,\n",
              "    'order_class': <OrderClass.SIMPLE: 'simple'>,\n",
              "    'order_type': <OrderType.LIMIT: 'limit'>,\n",
              "    'position_intent': <PositionIntent.BUY_TO_OPEN: 'buy_to_open'>,\n",
              "    'qty': '0.01',\n",
              "    'replaced_at': None,\n",
              "    'replaced_by': None,\n",
              "    'replaces': None,\n",
              "    'side': <OrderSide.BUY: 'buy'>,\n",
              "    'status': <OrderStatus.PENDING_NEW: 'pending_new'>,\n",
              "    'stop_price': None,\n",
              "    'submitted_at': datetime.datetime(2024, 12, 29, 14, 38, 34, 832063, tzinfo=TzInfo(UTC)),\n",
              "    'symbol': 'BTC/USD',\n",
              "    'time_in_force': <TimeInForce.GTC: 'gtc'>,\n",
              "    'trail_percent': None,\n",
              "    'trail_price': None,\n",
              "    'type': <OrderType.LIMIT: 'limit'>,\n",
              "    'updated_at': datetime.datetime(2024, 12, 29, 14, 38, 34, 833656, tzinfo=TzInfo(UTC))}"
            ]
          },
          "metadata": {},
          "execution_count": 18
        }
      ],
      "source": [
        "# simple, limit order\n",
        "req = LimitOrderRequest(\n",
        "    symbol = symbol,\n",
        "    qty = 0.01,\n",
        "    limit_price = 60000,\n",
        "    side = OrderSide.BUY,\n",
        "    type = OrderType.LIMIT,\n",
        "    time_in_force = TimeInForce.GTC,\n",
        ")\n",
        "res = trade_client.submit_order(req)\n",
        "res"
      ]
    },
    {
      "cell_type": "code",
      "execution_count": 19,
      "metadata": {
        "id": "u-KUP6X1zzX0",
        "outputId": "d04c0bee-4b75-4fa8-e413-9f6ed0384fc5",
        "colab": {
          "base_uri": "https://localhost:8080/"
        }
      },
      "outputs": [
        {
          "output_type": "execute_result",
          "data": {
            "text/plain": [
              "{   'asset_class': <AssetClass.CRYPTO: 'crypto'>,\n",
              "    'asset_id': UUID('276e2673-764b-4ab6-a611-caf665ca6340'),\n",
              "    'canceled_at': None,\n",
              "    'client_order_id': 'c6242abb-5138-453c-b619-b8440bd97453',\n",
              "    'created_at': datetime.datetime(2024, 12, 29, 14, 38, 43, 393478, tzinfo=TzInfo(UTC)),\n",
              "    'expired_at': None,\n",
              "    'extended_hours': False,\n",
              "    'failed_at': None,\n",
              "    'filled_at': None,\n",
              "    'filled_avg_price': None,\n",
              "    'filled_qty': '0',\n",
              "    'hwm': None,\n",
              "    'id': UUID('b9f94249-eb35-48eb-9dae-359eaf81a7d0'),\n",
              "    'legs': None,\n",
              "    'limit_price': '55000',\n",
              "    'notional': None,\n",
              "    'order_class': <OrderClass.SIMPLE: 'simple'>,\n",
              "    'order_type': <OrderType.STOP_LIMIT: 'stop_limit'>,\n",
              "    'position_intent': <PositionIntent.BUY_TO_OPEN: 'buy_to_open'>,\n",
              "    'qty': '0.01',\n",
              "    'replaced_at': None,\n",
              "    'replaced_by': None,\n",
              "    'replaces': None,\n",
              "    'side': <OrderSide.BUY: 'buy'>,\n",
              "    'status': <OrderStatus.NEW: 'new'>,\n",
              "    'stop_price': '60000',\n",
              "    'submitted_at': datetime.datetime(2024, 12, 29, 14, 38, 43, 393478, tzinfo=TzInfo(UTC)),\n",
              "    'symbol': 'BTC/USD',\n",
              "    'time_in_force': <TimeInForce.GTC: 'gtc'>,\n",
              "    'trail_percent': None,\n",
              "    'trail_price': None,\n",
              "    'type': <OrderType.STOP_LIMIT: 'stop_limit'>,\n",
              "    'updated_at': datetime.datetime(2024, 12, 29, 14, 38, 43, 395100, tzinfo=TzInfo(UTC))}"
            ]
          },
          "metadata": {},
          "execution_count": 19
        }
      ],
      "source": [
        "# stop limit order\n",
        "req = StopLimitOrderRequest(\n",
        "                    symbol = symbol,\n",
        "                    qty = 0.01,\n",
        "                    side = OrderSide.BUY,\n",
        "                    time_in_force = TimeInForce.GTC,\n",
        "                    limit_price = 55000,\n",
        "                    stop_price = 60000\n",
        "                    )\n",
        "\n",
        "res = trade_client.submit_order(req)\n",
        "res"
      ]
    },
    {
      "cell_type": "code",
      "execution_count": 20,
      "metadata": {
        "id": "YzoCI6EyzzX0",
        "outputId": "66c1ec10-4b4b-4dd9-98da-6e1d2f09bdf3",
        "colab": {
          "base_uri": "https://localhost:8080/"
        }
      },
      "outputs": [
        {
          "output_type": "execute_result",
          "data": {
            "text/plain": [
              "[{   'asset_class': <AssetClass.CRYPTO: 'crypto'>,\n",
              "     'asset_id': UUID('276e2673-764b-4ab6-a611-caf665ca6340'),\n",
              "     'canceled_at': None,\n",
              "     'client_order_id': 'c6242abb-5138-453c-b619-b8440bd97453',\n",
              "     'created_at': datetime.datetime(2024, 12, 29, 14, 38, 43, 393478, tzinfo=TzInfo(UTC)),\n",
              "     'expired_at': None,\n",
              "     'extended_hours': False,\n",
              "     'failed_at': None,\n",
              "     'filled_at': None,\n",
              "     'filled_avg_price': None,\n",
              "     'filled_qty': '0',\n",
              "     'hwm': None,\n",
              "     'id': UUID('b9f94249-eb35-48eb-9dae-359eaf81a7d0'),\n",
              "     'legs': None,\n",
              "     'limit_price': '55000',\n",
              "     'notional': None,\n",
              "     'order_class': <OrderClass.SIMPLE: 'simple'>,\n",
              "     'order_type': <OrderType.STOP_LIMIT: 'stop_limit'>,\n",
              "     'position_intent': <PositionIntent.BUY_TO_OPEN: 'buy_to_open'>,\n",
              "     'qty': '0.01',\n",
              "     'replaced_at': None,\n",
              "     'replaced_by': None,\n",
              "     'replaces': None,\n",
              "     'side': <OrderSide.BUY: 'buy'>,\n",
              "     'status': <OrderStatus.NEW: 'new'>,\n",
              "     'stop_price': '60000',\n",
              "     'submitted_at': datetime.datetime(2024, 12, 29, 14, 38, 43, 393478, tzinfo=TzInfo(UTC)),\n",
              "     'symbol': 'BTC/USD',\n",
              "     'time_in_force': <TimeInForce.GTC: 'gtc'>,\n",
              "     'trail_percent': None,\n",
              "     'trail_price': None,\n",
              "     'type': <OrderType.STOP_LIMIT: 'stop_limit'>,\n",
              "     'updated_at': datetime.datetime(2024, 12, 29, 14, 38, 43, 395100, tzinfo=TzInfo(UTC))},\n",
              " {   'asset_class': <AssetClass.CRYPTO: 'crypto'>,\n",
              "     'asset_id': UUID('276e2673-764b-4ab6-a611-caf665ca6340'),\n",
              "     'canceled_at': None,\n",
              "     'client_order_id': 'ab63f7c5-2d31-449e-80be-25d0e3c0d2df',\n",
              "     'created_at': datetime.datetime(2024, 12, 29, 14, 38, 34, 832063, tzinfo=TzInfo(UTC)),\n",
              "     'expired_at': None,\n",
              "     'extended_hours': False,\n",
              "     'failed_at': None,\n",
              "     'filled_at': None,\n",
              "     'filled_avg_price': None,\n",
              "     'filled_qty': '0',\n",
              "     'hwm': None,\n",
              "     'id': UUID('4852b174-6464-4c2e-be6b-00e04efbf9e4'),\n",
              "     'legs': None,\n",
              "     'limit_price': '60000',\n",
              "     'notional': None,\n",
              "     'order_class': <OrderClass.SIMPLE: 'simple'>,\n",
              "     'order_type': <OrderType.LIMIT: 'limit'>,\n",
              "     'position_intent': <PositionIntent.BUY_TO_OPEN: 'buy_to_open'>,\n",
              "     'qty': '0.01',\n",
              "     'replaced_at': None,\n",
              "     'replaced_by': None,\n",
              "     'replaces': None,\n",
              "     'side': <OrderSide.BUY: 'buy'>,\n",
              "     'status': <OrderStatus.NEW: 'new'>,\n",
              "     'stop_price': None,\n",
              "     'submitted_at': datetime.datetime(2024, 12, 29, 14, 38, 34, 832063, tzinfo=TzInfo(UTC)),\n",
              "     'symbol': 'BTC/USD',\n",
              "     'time_in_force': <TimeInForce.GTC: 'gtc'>,\n",
              "     'trail_percent': None,\n",
              "     'trail_price': None,\n",
              "     'type': <OrderType.LIMIT: 'limit'>,\n",
              "     'updated_at': datetime.datetime(2024, 12, 29, 14, 38, 34, 874417, tzinfo=TzInfo(UTC))},\n",
              " {   'asset_class': <AssetClass.CRYPTO: 'crypto'>,\n",
              "     'asset_id': UUID('276e2673-764b-4ab6-a611-caf665ca6340'),\n",
              "     'canceled_at': None,\n",
              "     'client_order_id': '345d363a-b2a5-4a9a-a129-5c103f44e451',\n",
              "     'created_at': datetime.datetime(2024, 12, 29, 14, 38, 13, 952589, tzinfo=TzInfo(UTC)),\n",
              "     'expired_at': None,\n",
              "     'extended_hours': False,\n",
              "     'failed_at': None,\n",
              "     'filled_at': datetime.datetime(2024, 12, 29, 14, 38, 13, 956283, tzinfo=TzInfo(UTC)),\n",
              "     'filled_avg_price': '94147.43',\n",
              "     'filled_qty': '0.000011552',\n",
              "     'hwm': None,\n",
              "     'id': UUID('4951a60c-195a-4ed6-a62a-eaa9c36f9e3e'),\n",
              "     'legs': None,\n",
              "     'limit_price': None,\n",
              "     'notional': '1.11',\n",
              "     'order_class': <OrderClass.SIMPLE: 'simple'>,\n",
              "     'order_type': <OrderType.MARKET: 'market'>,\n",
              "     'position_intent': <PositionIntent.BUY_TO_OPEN: 'buy_to_open'>,\n",
              "     'qty': None,\n",
              "     'replaced_at': None,\n",
              "     'replaced_by': None,\n",
              "     'replaces': None,\n",
              "     'side': <OrderSide.BUY: 'buy'>,\n",
              "     'status': <OrderStatus.FILLED: 'filled'>,\n",
              "     'stop_price': None,\n",
              "     'submitted_at': datetime.datetime(2024, 12, 29, 14, 38, 13, 952589, tzinfo=TzInfo(UTC)),\n",
              "     'symbol': 'BTC/USD',\n",
              "     'time_in_force': <TimeInForce.GTC: 'gtc'>,\n",
              "     'trail_percent': None,\n",
              "     'trail_price': None,\n",
              "     'type': <OrderType.MARKET: 'market'>,\n",
              "     'updated_at': datetime.datetime(2024, 12, 29, 14, 38, 13, 973893, tzinfo=TzInfo(UTC))},\n",
              " {   'asset_class': <AssetClass.CRYPTO: 'crypto'>,\n",
              "     'asset_id': UUID('276e2673-764b-4ab6-a611-caf665ca6340'),\n",
              "     'canceled_at': None,\n",
              "     'client_order_id': '103cbeac-baff-481b-b658-e37b7009060f',\n",
              "     'created_at': datetime.datetime(2024, 12, 29, 14, 37, 14, 382034, tzinfo=TzInfo(UTC)),\n",
              "     'expired_at': None,\n",
              "     'extended_hours': False,\n",
              "     'failed_at': None,\n",
              "     'filled_at': datetime.datetime(2024, 12, 29, 14, 37, 14, 405883, tzinfo=TzInfo(UTC)),\n",
              "     'filled_avg_price': '94126.7',\n",
              "     'filled_qty': '0.01',\n",
              "     'hwm': None,\n",
              "     'id': UUID('9edc0e27-5b60-45a0-99e7-ba17f8ef8243'),\n",
              "     'legs': None,\n",
              "     'limit_price': None,\n",
              "     'notional': None,\n",
              "     'order_class': <OrderClass.SIMPLE: 'simple'>,\n",
              "     'order_type': <OrderType.MARKET: 'market'>,\n",
              "     'position_intent': <PositionIntent.BUY_TO_OPEN: 'buy_to_open'>,\n",
              "     'qty': '0.01',\n",
              "     'replaced_at': None,\n",
              "     'replaced_by': None,\n",
              "     'replaces': None,\n",
              "     'side': <OrderSide.BUY: 'buy'>,\n",
              "     'status': <OrderStatus.FILLED: 'filled'>,\n",
              "     'stop_price': None,\n",
              "     'submitted_at': datetime.datetime(2024, 12, 29, 14, 37, 14, 382034, tzinfo=TzInfo(UTC)),\n",
              "     'symbol': 'BTC/USD',\n",
              "     'time_in_force': <TimeInForce.GTC: 'gtc'>,\n",
              "     'trail_percent': None,\n",
              "     'trail_price': None,\n",
              "     'type': <OrderType.MARKET: 'market'>,\n",
              "     'updated_at': datetime.datetime(2024, 12, 29, 14, 37, 14, 424411, tzinfo=TzInfo(UTC))}]"
            ]
          },
          "metadata": {},
          "execution_count": 20
        }
      ],
      "source": [
        "# get a list of orders including closed (e.g. filled) orders by specifying symbol\n",
        "req = GetOrdersRequest(\n",
        "    status = QueryOrderStatus.ALL,\n",
        "    symbols = [symbol]\n",
        ")\n",
        "orders = trade_client.get_orders(req)\n",
        "orders"
      ]
    },
    {
      "cell_type": "code",
      "execution_count": 21,
      "metadata": {
        "id": "mldee0VBzzX0",
        "outputId": "8e4d1ef6-a0c3-482e-9ff7-39903d99dee7",
        "colab": {
          "base_uri": "https://localhost:8080/"
        }
      },
      "outputs": [
        {
          "output_type": "execute_result",
          "data": {
            "text/plain": [
              "[{   'asset_class': <AssetClass.CRYPTO: 'crypto'>,\n",
              "     'asset_id': UUID('276e2673-764b-4ab6-a611-caf665ca6340'),\n",
              "     'canceled_at': None,\n",
              "     'client_order_id': 'c6242abb-5138-453c-b619-b8440bd97453',\n",
              "     'created_at': datetime.datetime(2024, 12, 29, 14, 38, 43, 393478, tzinfo=TzInfo(UTC)),\n",
              "     'expired_at': None,\n",
              "     'extended_hours': False,\n",
              "     'failed_at': None,\n",
              "     'filled_at': None,\n",
              "     'filled_avg_price': None,\n",
              "     'filled_qty': '0',\n",
              "     'hwm': None,\n",
              "     'id': UUID('b9f94249-eb35-48eb-9dae-359eaf81a7d0'),\n",
              "     'legs': None,\n",
              "     'limit_price': '55000',\n",
              "     'notional': None,\n",
              "     'order_class': <OrderClass.SIMPLE: 'simple'>,\n",
              "     'order_type': <OrderType.STOP_LIMIT: 'stop_limit'>,\n",
              "     'position_intent': <PositionIntent.BUY_TO_OPEN: 'buy_to_open'>,\n",
              "     'qty': '0.01',\n",
              "     'replaced_at': None,\n",
              "     'replaced_by': None,\n",
              "     'replaces': None,\n",
              "     'side': <OrderSide.BUY: 'buy'>,\n",
              "     'status': <OrderStatus.NEW: 'new'>,\n",
              "     'stop_price': '60000',\n",
              "     'submitted_at': datetime.datetime(2024, 12, 29, 14, 38, 43, 393478, tzinfo=TzInfo(UTC)),\n",
              "     'symbol': 'BTC/USD',\n",
              "     'time_in_force': <TimeInForce.GTC: 'gtc'>,\n",
              "     'trail_percent': None,\n",
              "     'trail_price': None,\n",
              "     'type': <OrderType.STOP_LIMIT: 'stop_limit'>,\n",
              "     'updated_at': datetime.datetime(2024, 12, 29, 14, 38, 43, 395100, tzinfo=TzInfo(UTC))},\n",
              " {   'asset_class': <AssetClass.CRYPTO: 'crypto'>,\n",
              "     'asset_id': UUID('276e2673-764b-4ab6-a611-caf665ca6340'),\n",
              "     'canceled_at': None,\n",
              "     'client_order_id': 'ab63f7c5-2d31-449e-80be-25d0e3c0d2df',\n",
              "     'created_at': datetime.datetime(2024, 12, 29, 14, 38, 34, 832063, tzinfo=TzInfo(UTC)),\n",
              "     'expired_at': None,\n",
              "     'extended_hours': False,\n",
              "     'failed_at': None,\n",
              "     'filled_at': None,\n",
              "     'filled_avg_price': None,\n",
              "     'filled_qty': '0',\n",
              "     'hwm': None,\n",
              "     'id': UUID('4852b174-6464-4c2e-be6b-00e04efbf9e4'),\n",
              "     'legs': None,\n",
              "     'limit_price': '60000',\n",
              "     'notional': None,\n",
              "     'order_class': <OrderClass.SIMPLE: 'simple'>,\n",
              "     'order_type': <OrderType.LIMIT: 'limit'>,\n",
              "     'position_intent': <PositionIntent.BUY_TO_OPEN: 'buy_to_open'>,\n",
              "     'qty': '0.01',\n",
              "     'replaced_at': None,\n",
              "     'replaced_by': None,\n",
              "     'replaces': None,\n",
              "     'side': <OrderSide.BUY: 'buy'>,\n",
              "     'status': <OrderStatus.NEW: 'new'>,\n",
              "     'stop_price': None,\n",
              "     'submitted_at': datetime.datetime(2024, 12, 29, 14, 38, 34, 832063, tzinfo=TzInfo(UTC)),\n",
              "     'symbol': 'BTC/USD',\n",
              "     'time_in_force': <TimeInForce.GTC: 'gtc'>,\n",
              "     'trail_percent': None,\n",
              "     'trail_price': None,\n",
              "     'type': <OrderType.LIMIT: 'limit'>,\n",
              "     'updated_at': datetime.datetime(2024, 12, 29, 14, 38, 34, 874417, tzinfo=TzInfo(UTC))}]"
            ]
          },
          "metadata": {},
          "execution_count": 21
        }
      ],
      "source": [
        "# see all open orders\n",
        "req = GetOrdersRequest(\n",
        "    status = QueryOrderStatus.OPEN,\n",
        "    symbols = [symbol]\n",
        ")\n",
        "open_orders = trade_client.get_orders(req)\n",
        "open_orders"
      ]
    },
    {
      "cell_type": "code",
      "execution_count": 22,
      "metadata": {
        "id": "QI-z3e79zzX0",
        "outputId": "e8b15a3f-d082-4d4b-80ec-7fc43e7a385d",
        "colab": {
          "base_uri": "https://localhost:8080/"
        }
      },
      "outputs": [
        {
          "output_type": "execute_result",
          "data": {
            "text/plain": [
              "[{   'body': None,\n",
              "     'id': UUID('4852b174-6464-4c2e-be6b-00e04efbf9e4'),\n",
              "     'status': 200},\n",
              " {   'body': None,\n",
              "     'id': UUID('b9f94249-eb35-48eb-9dae-359eaf81a7d0'),\n",
              "     'status': 200}]"
            ]
          },
          "metadata": {},
          "execution_count": 22
        }
      ],
      "source": [
        "# cancel all open orders\n",
        "trade_client.cancel_orders()"
      ]
    },
    {
      "cell_type": "markdown",
      "metadata": {
        "id": "gqEvfWd1zzX0"
      },
      "source": [
        "### Positions"
      ]
    },
    {
      "cell_type": "code",
      "execution_count": null,
      "metadata": {
        "id": "UnKCGI7nzzX0"
      },
      "outputs": [],
      "source": [
        "# '/' not being supported for position calls\n",
        "symbol=\"BTCUSD\""
      ]
    },
    {
      "cell_type": "code",
      "execution_count": null,
      "metadata": {
        "id": "AHNhqei4zzX0"
      },
      "outputs": [],
      "source": [
        "# get all open positions\n",
        "# ref. https://docs.alpaca.markets/reference/getallopenpositions-1\n",
        "positions = trade_client.get_all_positions()\n",
        "positions"
      ]
    },
    {
      "cell_type": "code",
      "execution_count": null,
      "metadata": {
        "id": "mEIXONMvzzX0"
      },
      "outputs": [],
      "source": [
        "# get positions by symbol\n",
        "# ref. https://docs.alpaca.markets/reference/getopenposition-1\n",
        "position = trade_client.get_open_position(symbol_or_asset_id=symbol)\n",
        "position\n"
      ]
    },
    {
      "cell_type": "code",
      "execution_count": null,
      "metadata": {
        "id": "yomaM7G8zzX1"
      },
      "outputs": [],
      "source": [
        "# get positions by asset_id\n",
        "trade_client.get_open_position(symbol_or_asset_id=position.asset_id)"
      ]
    },
    {
      "cell_type": "code",
      "execution_count": null,
      "metadata": {
        "id": "UK52iG6WzzX1"
      },
      "outputs": [],
      "source": [
        "# close the position with specifying qty\n",
        "# ref. https://docs.alpaca.markets/reference/deleteopenposition-1\n",
        "trade_client.close_position(\n",
        "    symbol_or_asset_id = symbol,\n",
        "    close_options = ClosePositionRequest(\n",
        "        qty = \"0.01\",\n",
        "    )\n",
        ")"
      ]
    },
    {
      "cell_type": "markdown",
      "metadata": {
        "id": "6Q5WQvQXzzX1"
      },
      "source": [
        "# Trade Update (Stream)"
      ]
    },
    {
      "cell_type": "markdown",
      "metadata": {
        "id": "2CY9hrrdzzX1"
      },
      "source": [
        "With TradingStream client, you can get updates about trades\n",
        "\n",
        "You can open this notebook in another window and run below cell to check trade updates."
      ]
    },
    {
      "cell_type": "code",
      "execution_count": 23,
      "metadata": {
        "id": "JbJffZdHzzX1",
        "outputId": "5e98bfd3-f00f-4323-c7c9-12292acd9761",
        "colab": {
          "base_uri": "https://localhost:8080/"
        }
      },
      "outputs": [
        {
          "output_type": "stream",
          "name": "stdout",
          "text": [
            "keyboard interrupt, bye\n"
          ]
        }
      ],
      "source": [
        "# subscribe trade updates\n",
        "trade_stream_client = TradingStream(api_key, secret_key, paper=paper, url_override = trade_api_wss)\n",
        "\n",
        "async def trade_updates_handler(data):\n",
        "    print(data)\n",
        "\n",
        "trade_stream_client.subscribe_trade_updates(trade_updates_handler)\n",
        "trade_stream_client.run()"
      ]
    },
    {
      "cell_type": "markdown",
      "metadata": {
        "id": "VHDefEc0zzX1"
      },
      "source": [
        "# Market Data (Historical)"
      ]
    },
    {
      "cell_type": "code",
      "execution_count": 33,
      "metadata": {
        "id": "ZzAvFbmpzzX1"
      },
      "outputs": [],
      "source": [
        "# setup crypto historical data client\n",
        "crypto_historical_data_client = CryptoHistoricalDataClient()\n",
        "\n",
        "symbols = ['BTC/USD']"
      ]
    },
    {
      "cell_type": "code",
      "execution_count": 36,
      "metadata": {
        "id": "XvFYgiGIzzX1",
        "outputId": "34891842-0499-4fe9-ffdb-70d39b7cb8e5",
        "colab": {
          "base_uri": "https://localhost:8080/",
          "height": 112
        }
      },
      "outputs": [
        {
          "output_type": "execute_result",
          "data": {
            "text/plain": [
              "                                      open        high        low       close  \\\n",
              "symbol  timestamp                                                               \n",
              "BTC/USD 2024-12-29 15:00:00+00:00  94510.4  94604.0905  94263.285  94604.0905   \n",
              "\n",
              "                                   volume  trade_count     vwap  \n",
              "symbol  timestamp                                                \n",
              "BTC/USD 2024-12-29 15:00:00+00:00     0.2          1.0  94532.7  "
            ],
            "text/html": [
              "\n",
              "  <div id=\"df-9ae296f0-bb14-42dd-b10e-6e1b2880fb11\" class=\"colab-df-container\">\n",
              "    <div>\n",
              "<style scoped>\n",
              "    .dataframe tbody tr th:only-of-type {\n",
              "        vertical-align: middle;\n",
              "    }\n",
              "\n",
              "    .dataframe tbody tr th {\n",
              "        vertical-align: top;\n",
              "    }\n",
              "\n",
              "    .dataframe thead th {\n",
              "        text-align: right;\n",
              "    }\n",
              "</style>\n",
              "<table border=\"1\" class=\"dataframe\">\n",
              "  <thead>\n",
              "    <tr style=\"text-align: right;\">\n",
              "      <th></th>\n",
              "      <th></th>\n",
              "      <th>open</th>\n",
              "      <th>high</th>\n",
              "      <th>low</th>\n",
              "      <th>close</th>\n",
              "      <th>volume</th>\n",
              "      <th>trade_count</th>\n",
              "      <th>vwap</th>\n",
              "    </tr>\n",
              "    <tr>\n",
              "      <th>symbol</th>\n",
              "      <th>timestamp</th>\n",
              "      <th></th>\n",
              "      <th></th>\n",
              "      <th></th>\n",
              "      <th></th>\n",
              "      <th></th>\n",
              "      <th></th>\n",
              "      <th></th>\n",
              "    </tr>\n",
              "  </thead>\n",
              "  <tbody>\n",
              "    <tr>\n",
              "      <th>BTC/USD</th>\n",
              "      <th>2024-12-29 15:00:00+00:00</th>\n",
              "      <td>94510.4</td>\n",
              "      <td>94604.0905</td>\n",
              "      <td>94263.285</td>\n",
              "      <td>94604.0905</td>\n",
              "      <td>0.2</td>\n",
              "      <td>1.0</td>\n",
              "      <td>94532.7</td>\n",
              "    </tr>\n",
              "  </tbody>\n",
              "</table>\n",
              "</div>\n",
              "    <div class=\"colab-df-buttons\">\n",
              "\n",
              "  <div class=\"colab-df-container\">\n",
              "    <button class=\"colab-df-convert\" onclick=\"convertToInteractive('df-9ae296f0-bb14-42dd-b10e-6e1b2880fb11')\"\n",
              "            title=\"Convert this dataframe to an interactive table.\"\n",
              "            style=\"display:none;\">\n",
              "\n",
              "  <svg xmlns=\"http://www.w3.org/2000/svg\" height=\"24px\" viewBox=\"0 -960 960 960\">\n",
              "    <path d=\"M120-120v-720h720v720H120Zm60-500h600v-160H180v160Zm220 220h160v-160H400v160Zm0 220h160v-160H400v160ZM180-400h160v-160H180v160Zm440 0h160v-160H620v160ZM180-180h160v-160H180v160Zm440 0h160v-160H620v160Z\"/>\n",
              "  </svg>\n",
              "    </button>\n",
              "\n",
              "  <style>\n",
              "    .colab-df-container {\n",
              "      display:flex;\n",
              "      gap: 12px;\n",
              "    }\n",
              "\n",
              "    .colab-df-convert {\n",
              "      background-color: #E8F0FE;\n",
              "      border: none;\n",
              "      border-radius: 50%;\n",
              "      cursor: pointer;\n",
              "      display: none;\n",
              "      fill: #1967D2;\n",
              "      height: 32px;\n",
              "      padding: 0 0 0 0;\n",
              "      width: 32px;\n",
              "    }\n",
              "\n",
              "    .colab-df-convert:hover {\n",
              "      background-color: #E2EBFA;\n",
              "      box-shadow: 0px 1px 2px rgba(60, 64, 67, 0.3), 0px 1px 3px 1px rgba(60, 64, 67, 0.15);\n",
              "      fill: #174EA6;\n",
              "    }\n",
              "\n",
              "    .colab-df-buttons div {\n",
              "      margin-bottom: 4px;\n",
              "    }\n",
              "\n",
              "    [theme=dark] .colab-df-convert {\n",
              "      background-color: #3B4455;\n",
              "      fill: #D2E3FC;\n",
              "    }\n",
              "\n",
              "    [theme=dark] .colab-df-convert:hover {\n",
              "      background-color: #434B5C;\n",
              "      box-shadow: 0px 1px 3px 1px rgba(0, 0, 0, 0.15);\n",
              "      filter: drop-shadow(0px 1px 2px rgba(0, 0, 0, 0.3));\n",
              "      fill: #FFFFFF;\n",
              "    }\n",
              "  </style>\n",
              "\n",
              "    <script>\n",
              "      const buttonEl =\n",
              "        document.querySelector('#df-9ae296f0-bb14-42dd-b10e-6e1b2880fb11 button.colab-df-convert');\n",
              "      buttonEl.style.display =\n",
              "        google.colab.kernel.accessAllowed ? 'block' : 'none';\n",
              "\n",
              "      async function convertToInteractive(key) {\n",
              "        const element = document.querySelector('#df-9ae296f0-bb14-42dd-b10e-6e1b2880fb11');\n",
              "        const dataTable =\n",
              "          await google.colab.kernel.invokeFunction('convertToInteractive',\n",
              "                                                    [key], {});\n",
              "        if (!dataTable) return;\n",
              "\n",
              "        const docLinkHtml = 'Like what you see? Visit the ' +\n",
              "          '<a target=\"_blank\" href=https://colab.research.google.com/notebooks/data_table.ipynb>data table notebook</a>'\n",
              "          + ' to learn more about interactive tables.';\n",
              "        element.innerHTML = '';\n",
              "        dataTable['output_type'] = 'display_data';\n",
              "        await google.colab.output.renderOutput(dataTable, element);\n",
              "        const docLink = document.createElement('div');\n",
              "        docLink.innerHTML = docLinkHtml;\n",
              "        element.appendChild(docLink);\n",
              "      }\n",
              "    </script>\n",
              "  </div>\n",
              "\n",
              "\n",
              "    </div>\n",
              "  </div>\n"
            ],
            "application/vnd.google.colaboratory.intrinsic+json": {
              "type": "dataframe",
              "summary": "{\n  \"name\": \"crypto_historical_data_client\",\n  \"rows\": 1,\n  \"fields\": [\n    {\n      \"column\": \"open\",\n      \"properties\": {\n        \"dtype\": \"number\",\n        \"std\": null,\n        \"min\": 94510.4,\n        \"max\": 94510.4,\n        \"num_unique_values\": 1,\n        \"samples\": [\n          94510.4\n        ],\n        \"semantic_type\": \"\",\n        \"description\": \"\"\n      }\n    },\n    {\n      \"column\": \"high\",\n      \"properties\": {\n        \"dtype\": \"number\",\n        \"std\": null,\n        \"min\": 94604.0905,\n        \"max\": 94604.0905,\n        \"num_unique_values\": 1,\n        \"samples\": [\n          94604.0905\n        ],\n        \"semantic_type\": \"\",\n        \"description\": \"\"\n      }\n    },\n    {\n      \"column\": \"low\",\n      \"properties\": {\n        \"dtype\": \"number\",\n        \"std\": null,\n        \"min\": 94263.285,\n        \"max\": 94263.285,\n        \"num_unique_values\": 1,\n        \"samples\": [\n          94263.285\n        ],\n        \"semantic_type\": \"\",\n        \"description\": \"\"\n      }\n    },\n    {\n      \"column\": \"close\",\n      \"properties\": {\n        \"dtype\": \"number\",\n        \"std\": null,\n        \"min\": 94604.0905,\n        \"max\": 94604.0905,\n        \"num_unique_values\": 1,\n        \"samples\": [\n          94604.0905\n        ],\n        \"semantic_type\": \"\",\n        \"description\": \"\"\n      }\n    },\n    {\n      \"column\": \"volume\",\n      \"properties\": {\n        \"dtype\": \"number\",\n        \"std\": null,\n        \"min\": 0.2,\n        \"max\": 0.2,\n        \"num_unique_values\": 1,\n        \"samples\": [\n          0.2\n        ],\n        \"semantic_type\": \"\",\n        \"description\": \"\"\n      }\n    },\n    {\n      \"column\": \"trade_count\",\n      \"properties\": {\n        \"dtype\": \"number\",\n        \"std\": null,\n        \"min\": 1.0,\n        \"max\": 1.0,\n        \"num_unique_values\": 1,\n        \"samples\": [\n          1.0\n        ],\n        \"semantic_type\": \"\",\n        \"description\": \"\"\n      }\n    },\n    {\n      \"column\": \"vwap\",\n      \"properties\": {\n        \"dtype\": \"number\",\n        \"std\": null,\n        \"min\": 94532.7,\n        \"max\": 94532.7,\n        \"num_unique_values\": 1,\n        \"samples\": [\n          94532.7\n        ],\n        \"semantic_type\": \"\",\n        \"description\": \"\"\n      }\n    }\n  ]\n}"
            }
          },
          "metadata": {},
          "execution_count": 36
        }
      ],
      "source": [
        "# get historical bars by symbol\n",
        "# ref. https://docs.alpaca.markets/reference/cryptobars-1\n",
        "now = datetime.now(ZoneInfo(\"America/New_York\"))\n",
        "req = CryptoBarsRequest(\n",
        "    symbol_or_symbols = symbols,\n",
        "    timeframe=TimeFrame(amount = 1, unit = TimeFrameUnit.Hour), # specify timeframe\n",
        "    start = now - timedelta(days = 1),                          # specify start datetime, default=the beginning of the current day.\n",
        "    # end_date=None,                                        # specify end datetime, default=now\n",
        "    limit = 2,                                               # specify limit\n",
        ")\n",
        "crypto_historical_data_client.get_crypto_bars(req).df"
      ]
    },
    {
      "cell_type": "code",
      "execution_count": 28,
      "metadata": {
        "id": "fmvLo2p_zzX1",
        "outputId": "583b9a33-296b-40d0-cd4f-73f52b43f892",
        "colab": {
          "base_uri": "https://localhost:8080/",
          "height": 394
        }
      },
      "outputs": [
        {
          "output_type": "execute_result",
          "data": {
            "text/plain": [
              "                                          bid_price  bid_size  ask_price  \\\n",
              "symbol  timestamp                                                          \n",
              "BTC/USD 2024-12-28 14:43:48.645690+00:00  94386.900    1.6220  94537.940   \n",
              "        2024-12-28 14:43:48.645798+00:00  94478.300    0.7975  94537.940   \n",
              "        2024-12-28 14:43:48.645881+00:00  94478.300    0.7975  94574.703   \n",
              "        2024-12-28 14:43:48.646128+00:00  94478.300    0.7975  94582.020   \n",
              "        2024-12-28 14:44:47.847019+00:00  94422.651    1.5980  94582.020   \n",
              "        2024-12-28 14:44:47.847184+00:00  94422.651    1.5980  94645.330   \n",
              "        2024-12-28 14:44:47.847370+00:00  94422.651    1.5980  94529.200   \n",
              "        2024-12-28 14:44:47.847559+00:00  94394.310    0.8091  94529.200   \n",
              "        2024-12-28 14:45:07.518654+00:00  94394.310    0.8091  94571.700   \n",
              "        2024-12-28 14:45:07.518669+00:00  94376.100    1.5920  94571.700   \n",
              "\n",
              "                                          ask_size  \n",
              "symbol  timestamp                                   \n",
              "BTC/USD 2024-12-28 14:43:48.645690+00:00   0.79698  \n",
              "        2024-12-28 14:43:48.645798+00:00   0.79698  \n",
              "        2024-12-28 14:43:48.645881+00:00   1.59900  \n",
              "        2024-12-28 14:43:48.646128+00:00   0.80900  \n",
              "        2024-12-28 14:44:47.847019+00:00   0.80900  \n",
              "        2024-12-28 14:44:47.847184+00:00   1.60431  \n",
              "        2024-12-28 14:44:47.847370+00:00   0.80320  \n",
              "        2024-12-28 14:44:47.847559+00:00   0.80320  \n",
              "        2024-12-28 14:45:07.518654+00:00   1.59229  \n",
              "        2024-12-28 14:45:07.518669+00:00   1.59229  "
            ],
            "text/html": [
              "\n",
              "  <div id=\"df-8179b97d-82d9-484e-abdf-afc261031eee\" class=\"colab-df-container\">\n",
              "    <div>\n",
              "<style scoped>\n",
              "    .dataframe tbody tr th:only-of-type {\n",
              "        vertical-align: middle;\n",
              "    }\n",
              "\n",
              "    .dataframe tbody tr th {\n",
              "        vertical-align: top;\n",
              "    }\n",
              "\n",
              "    .dataframe thead th {\n",
              "        text-align: right;\n",
              "    }\n",
              "</style>\n",
              "<table border=\"1\" class=\"dataframe\">\n",
              "  <thead>\n",
              "    <tr style=\"text-align: right;\">\n",
              "      <th></th>\n",
              "      <th></th>\n",
              "      <th>bid_price</th>\n",
              "      <th>bid_size</th>\n",
              "      <th>ask_price</th>\n",
              "      <th>ask_size</th>\n",
              "    </tr>\n",
              "    <tr>\n",
              "      <th>symbol</th>\n",
              "      <th>timestamp</th>\n",
              "      <th></th>\n",
              "      <th></th>\n",
              "      <th></th>\n",
              "      <th></th>\n",
              "    </tr>\n",
              "  </thead>\n",
              "  <tbody>\n",
              "    <tr>\n",
              "      <th rowspan=\"10\" valign=\"top\">BTC/USD</th>\n",
              "      <th>2024-12-28 14:43:48.645690+00:00</th>\n",
              "      <td>94386.900</td>\n",
              "      <td>1.6220</td>\n",
              "      <td>94537.940</td>\n",
              "      <td>0.79698</td>\n",
              "    </tr>\n",
              "    <tr>\n",
              "      <th>2024-12-28 14:43:48.645798+00:00</th>\n",
              "      <td>94478.300</td>\n",
              "      <td>0.7975</td>\n",
              "      <td>94537.940</td>\n",
              "      <td>0.79698</td>\n",
              "    </tr>\n",
              "    <tr>\n",
              "      <th>2024-12-28 14:43:48.645881+00:00</th>\n",
              "      <td>94478.300</td>\n",
              "      <td>0.7975</td>\n",
              "      <td>94574.703</td>\n",
              "      <td>1.59900</td>\n",
              "    </tr>\n",
              "    <tr>\n",
              "      <th>2024-12-28 14:43:48.646128+00:00</th>\n",
              "      <td>94478.300</td>\n",
              "      <td>0.7975</td>\n",
              "      <td>94582.020</td>\n",
              "      <td>0.80900</td>\n",
              "    </tr>\n",
              "    <tr>\n",
              "      <th>2024-12-28 14:44:47.847019+00:00</th>\n",
              "      <td>94422.651</td>\n",
              "      <td>1.5980</td>\n",
              "      <td>94582.020</td>\n",
              "      <td>0.80900</td>\n",
              "    </tr>\n",
              "    <tr>\n",
              "      <th>2024-12-28 14:44:47.847184+00:00</th>\n",
              "      <td>94422.651</td>\n",
              "      <td>1.5980</td>\n",
              "      <td>94645.330</td>\n",
              "      <td>1.60431</td>\n",
              "    </tr>\n",
              "    <tr>\n",
              "      <th>2024-12-28 14:44:47.847370+00:00</th>\n",
              "      <td>94422.651</td>\n",
              "      <td>1.5980</td>\n",
              "      <td>94529.200</td>\n",
              "      <td>0.80320</td>\n",
              "    </tr>\n",
              "    <tr>\n",
              "      <th>2024-12-28 14:44:47.847559+00:00</th>\n",
              "      <td>94394.310</td>\n",
              "      <td>0.8091</td>\n",
              "      <td>94529.200</td>\n",
              "      <td>0.80320</td>\n",
              "    </tr>\n",
              "    <tr>\n",
              "      <th>2024-12-28 14:45:07.518654+00:00</th>\n",
              "      <td>94394.310</td>\n",
              "      <td>0.8091</td>\n",
              "      <td>94571.700</td>\n",
              "      <td>1.59229</td>\n",
              "    </tr>\n",
              "    <tr>\n",
              "      <th>2024-12-28 14:45:07.518669+00:00</th>\n",
              "      <td>94376.100</td>\n",
              "      <td>1.5920</td>\n",
              "      <td>94571.700</td>\n",
              "      <td>1.59229</td>\n",
              "    </tr>\n",
              "  </tbody>\n",
              "</table>\n",
              "</div>\n",
              "    <div class=\"colab-df-buttons\">\n",
              "\n",
              "  <div class=\"colab-df-container\">\n",
              "    <button class=\"colab-df-convert\" onclick=\"convertToInteractive('df-8179b97d-82d9-484e-abdf-afc261031eee')\"\n",
              "            title=\"Convert this dataframe to an interactive table.\"\n",
              "            style=\"display:none;\">\n",
              "\n",
              "  <svg xmlns=\"http://www.w3.org/2000/svg\" height=\"24px\" viewBox=\"0 -960 960 960\">\n",
              "    <path d=\"M120-120v-720h720v720H120Zm60-500h600v-160H180v160Zm220 220h160v-160H400v160Zm0 220h160v-160H400v160ZM180-400h160v-160H180v160Zm440 0h160v-160H620v160ZM180-180h160v-160H180v160Zm440 0h160v-160H620v160Z\"/>\n",
              "  </svg>\n",
              "    </button>\n",
              "\n",
              "  <style>\n",
              "    .colab-df-container {\n",
              "      display:flex;\n",
              "      gap: 12px;\n",
              "    }\n",
              "\n",
              "    .colab-df-convert {\n",
              "      background-color: #E8F0FE;\n",
              "      border: none;\n",
              "      border-radius: 50%;\n",
              "      cursor: pointer;\n",
              "      display: none;\n",
              "      fill: #1967D2;\n",
              "      height: 32px;\n",
              "      padding: 0 0 0 0;\n",
              "      width: 32px;\n",
              "    }\n",
              "\n",
              "    .colab-df-convert:hover {\n",
              "      background-color: #E2EBFA;\n",
              "      box-shadow: 0px 1px 2px rgba(60, 64, 67, 0.3), 0px 1px 3px 1px rgba(60, 64, 67, 0.15);\n",
              "      fill: #174EA6;\n",
              "    }\n",
              "\n",
              "    .colab-df-buttons div {\n",
              "      margin-bottom: 4px;\n",
              "    }\n",
              "\n",
              "    [theme=dark] .colab-df-convert {\n",
              "      background-color: #3B4455;\n",
              "      fill: #D2E3FC;\n",
              "    }\n",
              "\n",
              "    [theme=dark] .colab-df-convert:hover {\n",
              "      background-color: #434B5C;\n",
              "      box-shadow: 0px 1px 3px 1px rgba(0, 0, 0, 0.15);\n",
              "      filter: drop-shadow(0px 1px 2px rgba(0, 0, 0, 0.3));\n",
              "      fill: #FFFFFF;\n",
              "    }\n",
              "  </style>\n",
              "\n",
              "    <script>\n",
              "      const buttonEl =\n",
              "        document.querySelector('#df-8179b97d-82d9-484e-abdf-afc261031eee button.colab-df-convert');\n",
              "      buttonEl.style.display =\n",
              "        google.colab.kernel.accessAllowed ? 'block' : 'none';\n",
              "\n",
              "      async function convertToInteractive(key) {\n",
              "        const element = document.querySelector('#df-8179b97d-82d9-484e-abdf-afc261031eee');\n",
              "        const dataTable =\n",
              "          await google.colab.kernel.invokeFunction('convertToInteractive',\n",
              "                                                    [key], {});\n",
              "        if (!dataTable) return;\n",
              "\n",
              "        const docLinkHtml = 'Like what you see? Visit the ' +\n",
              "          '<a target=\"_blank\" href=https://colab.research.google.com/notebooks/data_table.ipynb>data table notebook</a>'\n",
              "          + ' to learn more about interactive tables.';\n",
              "        element.innerHTML = '';\n",
              "        dataTable['output_type'] = 'display_data';\n",
              "        await google.colab.output.renderOutput(dataTable, element);\n",
              "        const docLink = document.createElement('div');\n",
              "        docLink.innerHTML = docLinkHtml;\n",
              "        element.appendChild(docLink);\n",
              "      }\n",
              "    </script>\n",
              "  </div>\n",
              "\n",
              "\n",
              "<div id=\"df-0344aba6-7f4e-4956-b033-de2641b15798\">\n",
              "  <button class=\"colab-df-quickchart\" onclick=\"quickchart('df-0344aba6-7f4e-4956-b033-de2641b15798')\"\n",
              "            title=\"Suggest charts\"\n",
              "            style=\"display:none;\">\n",
              "\n",
              "<svg xmlns=\"http://www.w3.org/2000/svg\" height=\"24px\"viewBox=\"0 0 24 24\"\n",
              "     width=\"24px\">\n",
              "    <g>\n",
              "        <path d=\"M19 3H5c-1.1 0-2 .9-2 2v14c0 1.1.9 2 2 2h14c1.1 0 2-.9 2-2V5c0-1.1-.9-2-2-2zM9 17H7v-7h2v7zm4 0h-2V7h2v10zm4 0h-2v-4h2v4z\"/>\n",
              "    </g>\n",
              "</svg>\n",
              "  </button>\n",
              "\n",
              "<style>\n",
              "  .colab-df-quickchart {\n",
              "      --bg-color: #E8F0FE;\n",
              "      --fill-color: #1967D2;\n",
              "      --hover-bg-color: #E2EBFA;\n",
              "      --hover-fill-color: #174EA6;\n",
              "      --disabled-fill-color: #AAA;\n",
              "      --disabled-bg-color: #DDD;\n",
              "  }\n",
              "\n",
              "  [theme=dark] .colab-df-quickchart {\n",
              "      --bg-color: #3B4455;\n",
              "      --fill-color: #D2E3FC;\n",
              "      --hover-bg-color: #434B5C;\n",
              "      --hover-fill-color: #FFFFFF;\n",
              "      --disabled-bg-color: #3B4455;\n",
              "      --disabled-fill-color: #666;\n",
              "  }\n",
              "\n",
              "  .colab-df-quickchart {\n",
              "    background-color: var(--bg-color);\n",
              "    border: none;\n",
              "    border-radius: 50%;\n",
              "    cursor: pointer;\n",
              "    display: none;\n",
              "    fill: var(--fill-color);\n",
              "    height: 32px;\n",
              "    padding: 0;\n",
              "    width: 32px;\n",
              "  }\n",
              "\n",
              "  .colab-df-quickchart:hover {\n",
              "    background-color: var(--hover-bg-color);\n",
              "    box-shadow: 0 1px 2px rgba(60, 64, 67, 0.3), 0 1px 3px 1px rgba(60, 64, 67, 0.15);\n",
              "    fill: var(--button-hover-fill-color);\n",
              "  }\n",
              "\n",
              "  .colab-df-quickchart-complete:disabled,\n",
              "  .colab-df-quickchart-complete:disabled:hover {\n",
              "    background-color: var(--disabled-bg-color);\n",
              "    fill: var(--disabled-fill-color);\n",
              "    box-shadow: none;\n",
              "  }\n",
              "\n",
              "  .colab-df-spinner {\n",
              "    border: 2px solid var(--fill-color);\n",
              "    border-color: transparent;\n",
              "    border-bottom-color: var(--fill-color);\n",
              "    animation:\n",
              "      spin 1s steps(1) infinite;\n",
              "  }\n",
              "\n",
              "  @keyframes spin {\n",
              "    0% {\n",
              "      border-color: transparent;\n",
              "      border-bottom-color: var(--fill-color);\n",
              "      border-left-color: var(--fill-color);\n",
              "    }\n",
              "    20% {\n",
              "      border-color: transparent;\n",
              "      border-left-color: var(--fill-color);\n",
              "      border-top-color: var(--fill-color);\n",
              "    }\n",
              "    30% {\n",
              "      border-color: transparent;\n",
              "      border-left-color: var(--fill-color);\n",
              "      border-top-color: var(--fill-color);\n",
              "      border-right-color: var(--fill-color);\n",
              "    }\n",
              "    40% {\n",
              "      border-color: transparent;\n",
              "      border-right-color: var(--fill-color);\n",
              "      border-top-color: var(--fill-color);\n",
              "    }\n",
              "    60% {\n",
              "      border-color: transparent;\n",
              "      border-right-color: var(--fill-color);\n",
              "    }\n",
              "    80% {\n",
              "      border-color: transparent;\n",
              "      border-right-color: var(--fill-color);\n",
              "      border-bottom-color: var(--fill-color);\n",
              "    }\n",
              "    90% {\n",
              "      border-color: transparent;\n",
              "      border-bottom-color: var(--fill-color);\n",
              "    }\n",
              "  }\n",
              "</style>\n",
              "\n",
              "  <script>\n",
              "    async function quickchart(key) {\n",
              "      const quickchartButtonEl =\n",
              "        document.querySelector('#' + key + ' button');\n",
              "      quickchartButtonEl.disabled = true;  // To prevent multiple clicks.\n",
              "      quickchartButtonEl.classList.add('colab-df-spinner');\n",
              "      try {\n",
              "        const charts = await google.colab.kernel.invokeFunction(\n",
              "            'suggestCharts', [key], {});\n",
              "      } catch (error) {\n",
              "        console.error('Error during call to suggestCharts:', error);\n",
              "      }\n",
              "      quickchartButtonEl.classList.remove('colab-df-spinner');\n",
              "      quickchartButtonEl.classList.add('colab-df-quickchart-complete');\n",
              "    }\n",
              "    (() => {\n",
              "      let quickchartButtonEl =\n",
              "        document.querySelector('#df-0344aba6-7f4e-4956-b033-de2641b15798 button');\n",
              "      quickchartButtonEl.style.display =\n",
              "        google.colab.kernel.accessAllowed ? 'block' : 'none';\n",
              "    })();\n",
              "  </script>\n",
              "</div>\n",
              "\n",
              "    </div>\n",
              "  </div>\n"
            ],
            "application/vnd.google.colaboratory.intrinsic+json": {
              "type": "dataframe",
              "summary": "{\n  \"name\": \"crypto_historical_data_client\",\n  \"rows\": 10,\n  \"fields\": [\n    {\n      \"column\": \"bid_price\",\n      \"properties\": {\n        \"dtype\": \"number\",\n        \"std\": 39.81037669042404,\n        \"min\": 94376.1,\n        \"max\": 94478.3,\n        \"num_unique_values\": 5,\n        \"samples\": [\n          94478.3,\n          94376.1,\n          94422.651\n        ],\n        \"semantic_type\": \"\",\n        \"description\": \"\"\n      }\n    },\n    {\n      \"column\": \"bid_size\",\n      \"properties\": {\n        \"dtype\": \"number\",\n        \"std\": 0.42144584481414826,\n        \"min\": 0.7975,\n        \"max\": 1.622,\n        \"num_unique_values\": 5,\n        \"samples\": [\n          0.7975,\n          1.592,\n          1.598\n        ],\n        \"semantic_type\": \"\",\n        \"description\": \"\"\n      }\n    },\n    {\n      \"column\": \"ask_price\",\n      \"properties\": {\n        \"dtype\": \"number\",\n        \"std\": 35.32413686623502,\n        \"min\": 94529.2,\n        \"max\": 94645.33,\n        \"num_unique_values\": 6,\n        \"samples\": [\n          94537.94,\n          94574.703,\n          94571.7\n        ],\n        \"semantic_type\": \"\",\n        \"description\": \"\"\n      }\n    },\n    {\n      \"column\": \"ask_size\",\n      \"properties\": {\n        \"dtype\": \"number\",\n        \"std\": 0.41000803228581856,\n        \"min\": 0.79698,\n        \"max\": 1.60431,\n        \"num_unique_values\": 6,\n        \"samples\": [\n          0.79698,\n          1.599,\n          1.59229\n        ],\n        \"semantic_type\": \"\",\n        \"description\": \"\"\n      }\n    }\n  ]\n}"
            }
          },
          "metadata": {},
          "execution_count": 28
        }
      ],
      "source": [
        "# get historical quote by symbol\n",
        "# ref. https://docs.alpaca.markets/reference/cryptoquotes-1\n",
        "now = datetime.now(ZoneInfo(\"America/New_York\"))\n",
        "req = CryptoQuoteRequest(\n",
        "    symbol_or_symbols = [symbol],\n",
        "    start = now - timedelta(days = 1),                          # specify start datetime, default=the beginning of the current day.\n",
        "    # end_date=None,                                        # specify end datetime, default=now\n",
        "    limit = 10,                                               # specify limit\n",
        ")\n",
        "crypto_historical_data_client.get_crypto_quotes(req).df"
      ]
    },
    {
      "cell_type": "code",
      "execution_count": 29,
      "metadata": {
        "id": "vfGEWuuAzzX2",
        "outputId": "1aa7f3db-fe35-40e8-8623-ed3b2590618f",
        "colab": {
          "base_uri": "https://localhost:8080/",
          "height": 143
        }
      },
      "outputs": [
        {
          "output_type": "execute_result",
          "data": {
            "text/plain": [
              "                                            price      size  \\\n",
              "symbol  timestamp                                             \n",
              "BTC/USD 2024-12-28 14:45:07.953147+00:00  94612.6  0.000720   \n",
              "        2024-12-28 14:48:33.906680+00:00  94316.3  0.000515   \n",
              "\n",
              "                                                           id  \n",
              "symbol  timestamp                                              \n",
              "BTC/USD 2024-12-28 14:45:07.953147+00:00  8608481685453229903  \n",
              "        2024-12-28 14:48:33.906680+00:00  4017472475364347425  "
            ],
            "text/html": [
              "\n",
              "  <div id=\"df-6f755ea2-20e3-4664-a089-3c66b3d3e1fb\" class=\"colab-df-container\">\n",
              "    <div>\n",
              "<style scoped>\n",
              "    .dataframe tbody tr th:only-of-type {\n",
              "        vertical-align: middle;\n",
              "    }\n",
              "\n",
              "    .dataframe tbody tr th {\n",
              "        vertical-align: top;\n",
              "    }\n",
              "\n",
              "    .dataframe thead th {\n",
              "        text-align: right;\n",
              "    }\n",
              "</style>\n",
              "<table border=\"1\" class=\"dataframe\">\n",
              "  <thead>\n",
              "    <tr style=\"text-align: right;\">\n",
              "      <th></th>\n",
              "      <th></th>\n",
              "      <th>price</th>\n",
              "      <th>size</th>\n",
              "      <th>id</th>\n",
              "    </tr>\n",
              "    <tr>\n",
              "      <th>symbol</th>\n",
              "      <th>timestamp</th>\n",
              "      <th></th>\n",
              "      <th></th>\n",
              "      <th></th>\n",
              "    </tr>\n",
              "  </thead>\n",
              "  <tbody>\n",
              "    <tr>\n",
              "      <th rowspan=\"2\" valign=\"top\">BTC/USD</th>\n",
              "      <th>2024-12-28 14:45:07.953147+00:00</th>\n",
              "      <td>94612.6</td>\n",
              "      <td>0.000720</td>\n",
              "      <td>8608481685453229903</td>\n",
              "    </tr>\n",
              "    <tr>\n",
              "      <th>2024-12-28 14:48:33.906680+00:00</th>\n",
              "      <td>94316.3</td>\n",
              "      <td>0.000515</td>\n",
              "      <td>4017472475364347425</td>\n",
              "    </tr>\n",
              "  </tbody>\n",
              "</table>\n",
              "</div>\n",
              "    <div class=\"colab-df-buttons\">\n",
              "\n",
              "  <div class=\"colab-df-container\">\n",
              "    <button class=\"colab-df-convert\" onclick=\"convertToInteractive('df-6f755ea2-20e3-4664-a089-3c66b3d3e1fb')\"\n",
              "            title=\"Convert this dataframe to an interactive table.\"\n",
              "            style=\"display:none;\">\n",
              "\n",
              "  <svg xmlns=\"http://www.w3.org/2000/svg\" height=\"24px\" viewBox=\"0 -960 960 960\">\n",
              "    <path d=\"M120-120v-720h720v720H120Zm60-500h600v-160H180v160Zm220 220h160v-160H400v160Zm0 220h160v-160H400v160ZM180-400h160v-160H180v160Zm440 0h160v-160H620v160ZM180-180h160v-160H180v160Zm440 0h160v-160H620v160Z\"/>\n",
              "  </svg>\n",
              "    </button>\n",
              "\n",
              "  <style>\n",
              "    .colab-df-container {\n",
              "      display:flex;\n",
              "      gap: 12px;\n",
              "    }\n",
              "\n",
              "    .colab-df-convert {\n",
              "      background-color: #E8F0FE;\n",
              "      border: none;\n",
              "      border-radius: 50%;\n",
              "      cursor: pointer;\n",
              "      display: none;\n",
              "      fill: #1967D2;\n",
              "      height: 32px;\n",
              "      padding: 0 0 0 0;\n",
              "      width: 32px;\n",
              "    }\n",
              "\n",
              "    .colab-df-convert:hover {\n",
              "      background-color: #E2EBFA;\n",
              "      box-shadow: 0px 1px 2px rgba(60, 64, 67, 0.3), 0px 1px 3px 1px rgba(60, 64, 67, 0.15);\n",
              "      fill: #174EA6;\n",
              "    }\n",
              "\n",
              "    .colab-df-buttons div {\n",
              "      margin-bottom: 4px;\n",
              "    }\n",
              "\n",
              "    [theme=dark] .colab-df-convert {\n",
              "      background-color: #3B4455;\n",
              "      fill: #D2E3FC;\n",
              "    }\n",
              "\n",
              "    [theme=dark] .colab-df-convert:hover {\n",
              "      background-color: #434B5C;\n",
              "      box-shadow: 0px 1px 3px 1px rgba(0, 0, 0, 0.15);\n",
              "      filter: drop-shadow(0px 1px 2px rgba(0, 0, 0, 0.3));\n",
              "      fill: #FFFFFF;\n",
              "    }\n",
              "  </style>\n",
              "\n",
              "    <script>\n",
              "      const buttonEl =\n",
              "        document.querySelector('#df-6f755ea2-20e3-4664-a089-3c66b3d3e1fb button.colab-df-convert');\n",
              "      buttonEl.style.display =\n",
              "        google.colab.kernel.accessAllowed ? 'block' : 'none';\n",
              "\n",
              "      async function convertToInteractive(key) {\n",
              "        const element = document.querySelector('#df-6f755ea2-20e3-4664-a089-3c66b3d3e1fb');\n",
              "        const dataTable =\n",
              "          await google.colab.kernel.invokeFunction('convertToInteractive',\n",
              "                                                    [key], {});\n",
              "        if (!dataTable) return;\n",
              "\n",
              "        const docLinkHtml = 'Like what you see? Visit the ' +\n",
              "          '<a target=\"_blank\" href=https://colab.research.google.com/notebooks/data_table.ipynb>data table notebook</a>'\n",
              "          + ' to learn more about interactive tables.';\n",
              "        element.innerHTML = '';\n",
              "        dataTable['output_type'] = 'display_data';\n",
              "        await google.colab.output.renderOutput(dataTable, element);\n",
              "        const docLink = document.createElement('div');\n",
              "        docLink.innerHTML = docLinkHtml;\n",
              "        element.appendChild(docLink);\n",
              "      }\n",
              "    </script>\n",
              "  </div>\n",
              "\n",
              "\n",
              "<div id=\"df-669d5315-7ecd-49c5-99c6-3c9a008664d8\">\n",
              "  <button class=\"colab-df-quickchart\" onclick=\"quickchart('df-669d5315-7ecd-49c5-99c6-3c9a008664d8')\"\n",
              "            title=\"Suggest charts\"\n",
              "            style=\"display:none;\">\n",
              "\n",
              "<svg xmlns=\"http://www.w3.org/2000/svg\" height=\"24px\"viewBox=\"0 0 24 24\"\n",
              "     width=\"24px\">\n",
              "    <g>\n",
              "        <path d=\"M19 3H5c-1.1 0-2 .9-2 2v14c0 1.1.9 2 2 2h14c1.1 0 2-.9 2-2V5c0-1.1-.9-2-2-2zM9 17H7v-7h2v7zm4 0h-2V7h2v10zm4 0h-2v-4h2v4z\"/>\n",
              "    </g>\n",
              "</svg>\n",
              "  </button>\n",
              "\n",
              "<style>\n",
              "  .colab-df-quickchart {\n",
              "      --bg-color: #E8F0FE;\n",
              "      --fill-color: #1967D2;\n",
              "      --hover-bg-color: #E2EBFA;\n",
              "      --hover-fill-color: #174EA6;\n",
              "      --disabled-fill-color: #AAA;\n",
              "      --disabled-bg-color: #DDD;\n",
              "  }\n",
              "\n",
              "  [theme=dark] .colab-df-quickchart {\n",
              "      --bg-color: #3B4455;\n",
              "      --fill-color: #D2E3FC;\n",
              "      --hover-bg-color: #434B5C;\n",
              "      --hover-fill-color: #FFFFFF;\n",
              "      --disabled-bg-color: #3B4455;\n",
              "      --disabled-fill-color: #666;\n",
              "  }\n",
              "\n",
              "  .colab-df-quickchart {\n",
              "    background-color: var(--bg-color);\n",
              "    border: none;\n",
              "    border-radius: 50%;\n",
              "    cursor: pointer;\n",
              "    display: none;\n",
              "    fill: var(--fill-color);\n",
              "    height: 32px;\n",
              "    padding: 0;\n",
              "    width: 32px;\n",
              "  }\n",
              "\n",
              "  .colab-df-quickchart:hover {\n",
              "    background-color: var(--hover-bg-color);\n",
              "    box-shadow: 0 1px 2px rgba(60, 64, 67, 0.3), 0 1px 3px 1px rgba(60, 64, 67, 0.15);\n",
              "    fill: var(--button-hover-fill-color);\n",
              "  }\n",
              "\n",
              "  .colab-df-quickchart-complete:disabled,\n",
              "  .colab-df-quickchart-complete:disabled:hover {\n",
              "    background-color: var(--disabled-bg-color);\n",
              "    fill: var(--disabled-fill-color);\n",
              "    box-shadow: none;\n",
              "  }\n",
              "\n",
              "  .colab-df-spinner {\n",
              "    border: 2px solid var(--fill-color);\n",
              "    border-color: transparent;\n",
              "    border-bottom-color: var(--fill-color);\n",
              "    animation:\n",
              "      spin 1s steps(1) infinite;\n",
              "  }\n",
              "\n",
              "  @keyframes spin {\n",
              "    0% {\n",
              "      border-color: transparent;\n",
              "      border-bottom-color: var(--fill-color);\n",
              "      border-left-color: var(--fill-color);\n",
              "    }\n",
              "    20% {\n",
              "      border-color: transparent;\n",
              "      border-left-color: var(--fill-color);\n",
              "      border-top-color: var(--fill-color);\n",
              "    }\n",
              "    30% {\n",
              "      border-color: transparent;\n",
              "      border-left-color: var(--fill-color);\n",
              "      border-top-color: var(--fill-color);\n",
              "      border-right-color: var(--fill-color);\n",
              "    }\n",
              "    40% {\n",
              "      border-color: transparent;\n",
              "      border-right-color: var(--fill-color);\n",
              "      border-top-color: var(--fill-color);\n",
              "    }\n",
              "    60% {\n",
              "      border-color: transparent;\n",
              "      border-right-color: var(--fill-color);\n",
              "    }\n",
              "    80% {\n",
              "      border-color: transparent;\n",
              "      border-right-color: var(--fill-color);\n",
              "      border-bottom-color: var(--fill-color);\n",
              "    }\n",
              "    90% {\n",
              "      border-color: transparent;\n",
              "      border-bottom-color: var(--fill-color);\n",
              "    }\n",
              "  }\n",
              "</style>\n",
              "\n",
              "  <script>\n",
              "    async function quickchart(key) {\n",
              "      const quickchartButtonEl =\n",
              "        document.querySelector('#' + key + ' button');\n",
              "      quickchartButtonEl.disabled = true;  // To prevent multiple clicks.\n",
              "      quickchartButtonEl.classList.add('colab-df-spinner');\n",
              "      try {\n",
              "        const charts = await google.colab.kernel.invokeFunction(\n",
              "            'suggestCharts', [key], {});\n",
              "      } catch (error) {\n",
              "        console.error('Error during call to suggestCharts:', error);\n",
              "      }\n",
              "      quickchartButtonEl.classList.remove('colab-df-spinner');\n",
              "      quickchartButtonEl.classList.add('colab-df-quickchart-complete');\n",
              "    }\n",
              "    (() => {\n",
              "      let quickchartButtonEl =\n",
              "        document.querySelector('#df-669d5315-7ecd-49c5-99c6-3c9a008664d8 button');\n",
              "      quickchartButtonEl.style.display =\n",
              "        google.colab.kernel.accessAllowed ? 'block' : 'none';\n",
              "    })();\n",
              "  </script>\n",
              "</div>\n",
              "\n",
              "    </div>\n",
              "  </div>\n"
            ],
            "application/vnd.google.colaboratory.intrinsic+json": {
              "type": "dataframe",
              "summary": "{\n  \"name\": \"crypto_historical_data_client\",\n  \"rows\": 2,\n  \"fields\": [\n    {\n      \"column\": \"price\",\n      \"properties\": {\n        \"dtype\": \"number\",\n        \"std\": 209.5157392655761,\n        \"min\": 94316.3,\n        \"max\": 94612.6,\n        \"num_unique_values\": 2,\n        \"samples\": [\n          94316.3,\n          94612.6\n        ],\n        \"semantic_type\": \"\",\n        \"description\": \"\"\n      }\n    },\n    {\n      \"column\": \"size\",\n      \"properties\": {\n        \"dtype\": \"number\",\n        \"std\": 0.00014497881045345907,\n        \"min\": 0.00051488,\n        \"max\": 0.000719911,\n        \"num_unique_values\": 2,\n        \"samples\": [\n          0.00051488,\n          0.000719911\n        ],\n        \"semantic_type\": \"\",\n        \"description\": \"\"\n      }\n    },\n    {\n      \"column\": \"id\",\n      \"properties\": {\n        \"dtype\": \"number\",\n        \"std\": 3246333744943744000,\n        \"min\": 4017472475364347425,\n        \"max\": 8608481685453229903,\n        \"num_unique_values\": 2,\n        \"samples\": [\n          4017472475364347425,\n          8608481685453229903\n        ],\n        \"semantic_type\": \"\",\n        \"description\": \"\"\n      }\n    }\n  ]\n}"
            }
          },
          "metadata": {},
          "execution_count": 29
        }
      ],
      "source": [
        "# get historical trades by symbol\n",
        "req = CryptoTradesRequest(\n",
        "    symbol_or_symbols = [symbol],\n",
        "    start = now - timedelta(days = 1),                          # specify start datetime, default=the beginning of the current day.\n",
        "    # end=None,                                             # specify end datetime, default=now\n",
        "    limit = 2,                                                # specify limit\n",
        ")\n",
        "crypto_historical_data_client.get_crypto_trades(req).df"
      ]
    },
    {
      "cell_type": "code",
      "execution_count": 30,
      "metadata": {
        "id": "PipH6hQTzzX2",
        "outputId": "be56ffe9-6b16-44e8-e2c7-97fbcabf7d00",
        "colab": {
          "base_uri": "https://localhost:8080/"
        }
      },
      "outputs": [
        {
          "output_type": "execute_result",
          "data": {
            "text/plain": [
              "{'BTC/USD': {   'ask_exchange': None,\n",
              "     'ask_price': 94190.11,\n",
              "     'ask_size': 0.81071,\n",
              "     'bid_exchange': None,\n",
              "     'bid_price': 94031.657,\n",
              "     'bid_size': 1.61309,\n",
              "     'conditions': None,\n",
              "     'symbol': 'BTC/USD',\n",
              "     'tape': None,\n",
              "     'timestamp': datetime.datetime(2024, 12, 29, 14, 42, 25, 824521, tzinfo=TzInfo(UTC))}}"
            ]
          },
          "metadata": {},
          "execution_count": 30
        }
      ],
      "source": [
        "# get latest quotes by symbol\n",
        "req = CryptoLatestQuoteRequest(\n",
        "    symbol_or_symbols = [symbol],\n",
        ")\n",
        "res = crypto_historical_data_client.get_crypto_latest_quote(req)\n",
        "res"
      ]
    },
    {
      "cell_type": "code",
      "source": [
        "import requests\n",
        "\n",
        "url = \"https://data.alpaca.markets/v1beta3/crypto/us/snapshots?symbols=BTC%2FUSD\"\n",
        "\n",
        "headers = {\"accept\": \"application/json\"}\n",
        "\n",
        "response = requests.get(url, headers=headers)\n",
        "\n",
        "print(response.text)"
      ],
      "metadata": {
        "id": "URh76-YeFnq6",
        "outputId": "be3778ac-38b3-46f8-eb5c-3b8a85cb3a17",
        "colab": {
          "base_uri": "https://localhost:8080/"
        }
      },
      "execution_count": 40,
      "outputs": [
        {
          "output_type": "stream",
          "name": "stdout",
          "text": [
            "{\"message\":\"Invalid location: loc\"}\n",
            "\n"
          ]
        }
      ]
    },
    {
      "cell_type": "code",
      "source": [],
      "metadata": {
        "id": "ou7klsVVF9lq"
      },
      "execution_count": 39,
      "outputs": []
    },
    {
      "cell_type": "code",
      "source": [],
      "metadata": {
        "id": "9eQ-bqwv262_"
      },
      "execution_count": null,
      "outputs": []
    },
    {
      "cell_type": "markdown",
      "source": [
        "# New Section"
      ],
      "metadata": {
        "id": "taNlB-xP27lg"
      }
    },
    {
      "cell_type": "code",
      "source": [
        "import yfinance as yf\n",
        "from datetime import datetime, timedelta"
      ],
      "metadata": {
        "id": "HWS7jIl43BkP"
      },
      "execution_count": 53,
      "outputs": []
    },
    {
      "cell_type": "code",
      "source": [
        "prices = yf.download([\"AAPL\"], interval='5m')[\"Adj Close\"]\n",
        "\n",
        "def rsi(prices, n=14):\n",
        "    \"\"\"Compute the RSI given prices\n",
        "\n",
        "    :param prices: pandas.Series\n",
        "    :return: rsi\n",
        "    \"\"\"\n",
        "\n",
        "    # Calculate the difference between the current and previous close price\n",
        "    delta = prices.diff()\n",
        "\n",
        "    # Calculate the sum of all positive changes\n",
        "    gain = delta.where(delta > 0, 0)\n",
        "\n",
        "    # Calculate the sum of all negative changes\n",
        "    loss = -delta.where(delta < 0, 0)\n",
        "\n",
        "    # Calculate the average gain over the last n periods\n",
        "    avg_gain = gain.rolling(n).mean()\n",
        "\n",
        "    # Calculate the average loss over the last n periods\n",
        "    avg_loss = loss.rolling(n).mean()\n",
        "\n",
        "    # Calculate the relative strength\n",
        "    rs = avg_gain / avg_loss\n",
        "\n",
        "    # Calculate the RSI\n",
        "    rsi = 100 - (100 / (1 + rs))\n",
        "\n",
        "    return rsi\n",
        "\n",
        "rsi_current = rsi(prices)"
      ],
      "metadata": {
        "id": "fvFuDvan69vz",
        "outputId": "d923ccab-8093-4afe-8f53-20f06d4eedc3",
        "colab": {
          "base_uri": "https://localhost:8080/"
        }
      },
      "execution_count": 68,
      "outputs": [
        {
          "output_type": "stream",
          "name": "stderr",
          "text": [
            "\r[*********************100%***********************]  1 of 1 completed\n"
          ]
        }
      ]
    },
    {
      "cell_type": "code",
      "source": [
        "rsi_current[rsi_current.index==rsi_current.index.max()]"
      ],
      "metadata": {
        "id": "kwISDQGn7eBj",
        "outputId": "4317bbc2-c21f-4bb3-80a5-3051cc2c5aa4",
        "colab": {
          "base_uri": "https://localhost:8080/",
          "height": 112
        }
      },
      "execution_count": 69,
      "outputs": [
        {
          "output_type": "execute_result",
          "data": {
            "text/plain": [
              "Ticker                          AAPL\n",
              "Datetime                            \n",
              "2024-12-27 20:55:00+00:00  60.992243"
            ],
            "text/html": [
              "\n",
              "  <div id=\"df-fe47e1e6-0cf8-4ebc-b74b-ff698c5764d2\" class=\"colab-df-container\">\n",
              "    <div>\n",
              "<style scoped>\n",
              "    .dataframe tbody tr th:only-of-type {\n",
              "        vertical-align: middle;\n",
              "    }\n",
              "\n",
              "    .dataframe tbody tr th {\n",
              "        vertical-align: top;\n",
              "    }\n",
              "\n",
              "    .dataframe thead th {\n",
              "        text-align: right;\n",
              "    }\n",
              "</style>\n",
              "<table border=\"1\" class=\"dataframe\">\n",
              "  <thead>\n",
              "    <tr style=\"text-align: right;\">\n",
              "      <th>Ticker</th>\n",
              "      <th>AAPL</th>\n",
              "    </tr>\n",
              "    <tr>\n",
              "      <th>Datetime</th>\n",
              "      <th></th>\n",
              "    </tr>\n",
              "  </thead>\n",
              "  <tbody>\n",
              "    <tr>\n",
              "      <th>2024-12-27 20:55:00+00:00</th>\n",
              "      <td>60.992243</td>\n",
              "    </tr>\n",
              "  </tbody>\n",
              "</table>\n",
              "</div>\n",
              "    <div class=\"colab-df-buttons\">\n",
              "\n",
              "  <div class=\"colab-df-container\">\n",
              "    <button class=\"colab-df-convert\" onclick=\"convertToInteractive('df-fe47e1e6-0cf8-4ebc-b74b-ff698c5764d2')\"\n",
              "            title=\"Convert this dataframe to an interactive table.\"\n",
              "            style=\"display:none;\">\n",
              "\n",
              "  <svg xmlns=\"http://www.w3.org/2000/svg\" height=\"24px\" viewBox=\"0 -960 960 960\">\n",
              "    <path d=\"M120-120v-720h720v720H120Zm60-500h600v-160H180v160Zm220 220h160v-160H400v160Zm0 220h160v-160H400v160ZM180-400h160v-160H180v160Zm440 0h160v-160H620v160ZM180-180h160v-160H180v160Zm440 0h160v-160H620v160Z\"/>\n",
              "  </svg>\n",
              "    </button>\n",
              "\n",
              "  <style>\n",
              "    .colab-df-container {\n",
              "      display:flex;\n",
              "      gap: 12px;\n",
              "    }\n",
              "\n",
              "    .colab-df-convert {\n",
              "      background-color: #E8F0FE;\n",
              "      border: none;\n",
              "      border-radius: 50%;\n",
              "      cursor: pointer;\n",
              "      display: none;\n",
              "      fill: #1967D2;\n",
              "      height: 32px;\n",
              "      padding: 0 0 0 0;\n",
              "      width: 32px;\n",
              "    }\n",
              "\n",
              "    .colab-df-convert:hover {\n",
              "      background-color: #E2EBFA;\n",
              "      box-shadow: 0px 1px 2px rgba(60, 64, 67, 0.3), 0px 1px 3px 1px rgba(60, 64, 67, 0.15);\n",
              "      fill: #174EA6;\n",
              "    }\n",
              "\n",
              "    .colab-df-buttons div {\n",
              "      margin-bottom: 4px;\n",
              "    }\n",
              "\n",
              "    [theme=dark] .colab-df-convert {\n",
              "      background-color: #3B4455;\n",
              "      fill: #D2E3FC;\n",
              "    }\n",
              "\n",
              "    [theme=dark] .colab-df-convert:hover {\n",
              "      background-color: #434B5C;\n",
              "      box-shadow: 0px 1px 3px 1px rgba(0, 0, 0, 0.15);\n",
              "      filter: drop-shadow(0px 1px 2px rgba(0, 0, 0, 0.3));\n",
              "      fill: #FFFFFF;\n",
              "    }\n",
              "  </style>\n",
              "\n",
              "    <script>\n",
              "      const buttonEl =\n",
              "        document.querySelector('#df-fe47e1e6-0cf8-4ebc-b74b-ff698c5764d2 button.colab-df-convert');\n",
              "      buttonEl.style.display =\n",
              "        google.colab.kernel.accessAllowed ? 'block' : 'none';\n",
              "\n",
              "      async function convertToInteractive(key) {\n",
              "        const element = document.querySelector('#df-fe47e1e6-0cf8-4ebc-b74b-ff698c5764d2');\n",
              "        const dataTable =\n",
              "          await google.colab.kernel.invokeFunction('convertToInteractive',\n",
              "                                                    [key], {});\n",
              "        if (!dataTable) return;\n",
              "\n",
              "        const docLinkHtml = 'Like what you see? Visit the ' +\n",
              "          '<a target=\"_blank\" href=https://colab.research.google.com/notebooks/data_table.ipynb>data table notebook</a>'\n",
              "          + ' to learn more about interactive tables.';\n",
              "        element.innerHTML = '';\n",
              "        dataTable['output_type'] = 'display_data';\n",
              "        await google.colab.output.renderOutput(dataTable, element);\n",
              "        const docLink = document.createElement('div');\n",
              "        docLink.innerHTML = docLinkHtml;\n",
              "        element.appendChild(docLink);\n",
              "      }\n",
              "    </script>\n",
              "  </div>\n",
              "\n",
              "\n",
              "    </div>\n",
              "  </div>\n"
            ],
            "application/vnd.google.colaboratory.intrinsic+json": {
              "type": "dataframe",
              "summary": "{\n  \"name\": \"rsi_current[rsi_current\",\n  \"rows\": 1,\n  \"fields\": [\n    {\n      \"column\": \"Datetime\",\n      \"properties\": {\n        \"dtype\": \"date\",\n        \"min\": \"2024-12-27 20:55:00+00:00\",\n        \"max\": \"2024-12-27 20:55:00+00:00\",\n        \"num_unique_values\": 1,\n        \"samples\": [\n          \"2024-12-27 20:55:00+00:00\"\n        ],\n        \"semantic_type\": \"\",\n        \"description\": \"\"\n      }\n    },\n    {\n      \"column\": \"AAPL\",\n      \"properties\": {\n        \"dtype\": \"number\",\n        \"std\": null,\n        \"min\": 60.99224285968063,\n        \"max\": 60.99224285968063,\n        \"num_unique_values\": 1,\n        \"samples\": [\n          60.99224285968063\n        ],\n        \"semantic_type\": \"\",\n        \"description\": \"\"\n      }\n    }\n  ]\n}"
            }
          },
          "metadata": {},
          "execution_count": 69
        }
      ]
    },
    {
      "cell_type": "code",
      "source": [],
      "metadata": {
        "id": "cdZdjyeX9wIQ"
      },
      "execution_count": null,
      "outputs": []
    }
  ],
  "metadata": {
    "kernelspec": {
      "display_name": ".venv",
      "language": "python",
      "name": "python3"
    },
    "language_info": {
      "codemirror_mode": {
        "name": "ipython",
        "version": 3
      },
      "file_extension": ".py",
      "mimetype": "text/x-python",
      "name": "python",
      "nbconvert_exporter": "python",
      "pygments_lexer": "ipython3",
      "version": "3.12.2"
    },
    "colab": {
      "provenance": [],
      "toc_visible": true
    }
  },
  "nbformat": 4,
  "nbformat_minor": 0
}